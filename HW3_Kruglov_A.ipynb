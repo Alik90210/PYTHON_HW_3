{
  "cells": [
    {
      "cell_type": "markdown",
      "id": "42289889-bd57-434e-9637-d3e354756316",
      "metadata": {
        "id": "42289889-bd57-434e-9637-d3e354756316"
      },
      "source": [
        "<center> <img src = https://raw.githubusercontent.com/AndreyRysistov/DatasetsForPandas/main/hh%20label.jpg alt=\"drawing\" style=\"width:400px;\">"
      ]
    },
    {
      "cell_type": "markdown",
      "id": "829cb75b-f14e-4ba8-9195-7ba929a7d656",
      "metadata": {
        "tags": [],
        "id": "829cb75b-f14e-4ba8-9195-7ba929a7d656"
      },
      "source": [
        "# <center> Проект: Анализ резюме из HeadHunter\n",
        "   "
      ]
    },
    {
      "cell_type": "code",
      "execution_count": 294,
      "id": "dccfde33-2452-43fb-a8a5-5c6ebc02a71d",
      "metadata": {
        "id": "dccfde33-2452-43fb-a8a5-5c6ebc02a71d"
      },
      "outputs": [],
      "source": [
        "import pandas as pd\n",
        "import numpy as np\n",
        "import matplotlib.pyplot as plt\n",
        "from matplotlib import style\n",
        "import matplotlib.colors as mcolors\n",
        "import seaborn as sns\n",
        "import scipy.stats as stats\n",
        "import plotly.express as px\n",
        "import chardet\n",
        "import csv"
      ]
    },
    {
      "cell_type": "code",
      "source": [
        "from google.colab import drive\n",
        "drive.mount('/content/drive')"
      ],
      "metadata": {
        "colab": {
          "base_uri": "https://localhost:8080/"
        },
        "id": "9ysYTssGjUFZ",
        "outputId": "45ff97b6-4b0a-4ada-aa40-06f60d8619a2"
      },
      "id": "9ysYTssGjUFZ",
      "execution_count": 44,
      "outputs": [
        {
          "output_type": "stream",
          "name": "stdout",
          "text": [
            "Drive already mounted at /content/drive; to attempt to forcibly remount, call drive.mount(\"/content/drive\", force_remount=True).\n"
          ]
        }
      ]
    },
    {
      "cell_type": "markdown",
      "id": "0dc6476b-7a00-44f1-ac93-6e3baed33a29",
      "metadata": {
        "id": "0dc6476b-7a00-44f1-ac93-6e3baed33a29"
      },
      "source": [
        "# Исследование структуры данных"
      ]
    },
    {
      "cell_type": "markdown",
      "id": "889782b6-8d1c-410e-8920-e57f27917c64",
      "metadata": {
        "id": "889782b6-8d1c-410e-8920-e57f27917c64"
      },
      "source": [
        "1. Прочитайте данные с помощью библиотеки Pandas. Совет: перед чтением обратите внимание на разделитель внутри файла."
      ]
    },
    {
      "cell_type": "code",
      "execution_count": 45,
      "id": "bc39e68e-ed02-4ee2-9235-7258a2f867a8",
      "metadata": {
        "id": "bc39e68e-ed02-4ee2-9235-7258a2f867a8"
      },
      "outputs": [],
      "source": [
        "df_hh = pd.read_csv('/content/drive/MyDrive/dst-3.0_16_1_hh_database.csv', sep=';', encoding='utf-8')"
      ]
    },
    {
      "cell_type": "code",
      "source": [
        "df_hh.head()"
      ],
      "metadata": {
        "id": "DHeVQjrkJCvo",
        "colab": {
          "base_uri": "https://localhost:8080/",
          "height": 414
        },
        "outputId": "f58985d6-6244-4455-912f-aab335d6ab9b"
      },
      "id": "DHeVQjrkJCvo",
      "execution_count": 46,
      "outputs": [
        {
          "output_type": "execute_result",
          "data": {
            "text/plain": [
              "                                   Пол, возраст           ЗП  \\\n",
              "0    Мужчина ,  39 лет , родился 27 ноября 1979   29000 руб.   \n",
              "1     Мужчина ,  60 лет , родился 20 марта 1959   40000 руб.   \n",
              "2  Женщина ,  36 лет , родилась 12 августа 1982   20000 руб.   \n",
              "3      Мужчина ,  38 лет , родился 25 июня 1980  100000 руб.   \n",
              "4     Женщина ,  26 лет , родилась 3 марта 1993  140000 руб.   \n",
              "\n",
              "                           Ищет работу на должность:  \\\n",
              "0                            Системный администратор   \n",
              "1                               Технический писатель   \n",
              "2                                           Оператор   \n",
              "3  Веб-разработчик (HTML / CSS / JS / PHP / базы ...   \n",
              "4                  Региональный менеджер по продажам   \n",
              "\n",
              "                        Город, переезд, командировки  \\\n",
              "0  Советск (Калининградская область) , не готов к...   \n",
              "1  Королев , не готов к переезду , готов к редким...   \n",
              "2  Тверь , не готова к переезду , не готова к ком...   \n",
              "3  Саратов , не готов к переезду , готов к редким...   \n",
              "4  Москва , не готова к переезду , готова к коман...   \n",
              "\n",
              "                                           Занятость  \\\n",
              "0  частичная занятость, проектная работа, полная ...   \n",
              "1  частичная занятость, проектная работа, полная ...   \n",
              "2                                   полная занятость   \n",
              "3  частичная занятость, проектная работа, полная ...   \n",
              "4                                   полная занятость   \n",
              "\n",
              "                                              График  \\\n",
              "0  гибкий график, полный день, сменный график, ва...   \n",
              "1  гибкий график, полный день, сменный график, уд...   \n",
              "2                                        полный день   \n",
              "3                    гибкий график, удаленная работа   \n",
              "4                                        полный день   \n",
              "\n",
              "                                         Опыт работы  \\\n",
              "0  Опыт работы 16 лет 10 месяцев  Август 2010 — п...   \n",
              "1  Опыт работы 19 лет 5 месяцев  Январь 2000 — по...   \n",
              "2  Опыт работы 10 лет 3 месяца  Октябрь 2004 — Де...   \n",
              "3  Опыт работы 18 лет 9 месяцев  Август 2017 — Ап...   \n",
              "4  Опыт работы 5 лет 7 месяцев  Региональный мене...   \n",
              "\n",
              "  Последнее/нынешнее место работы  \\\n",
              "0         МАОУ \"СОШ № 1 г.Немана\"   \n",
              "1    Временный трудовой коллектив   \n",
              "2                    ПАО Сбербанк   \n",
              "3                        OpenSoft   \n",
              "4                        Мармелад   \n",
              "\n",
              "                       Последняя/нынешняя должность  \\\n",
              "0                           Системный администратор   \n",
              "1  Менеджер проекта, Аналитик, Технический писатель   \n",
              "2                               Кассир-операционист   \n",
              "3                               Инженер-программист   \n",
              "4                              Менеджер по продажам   \n",
              "\n",
              "                                   Образование и ВУЗ Обновление резюме  \\\n",
              "0  Неоконченное высшее образование 2000  Балтийск...  16.04.2019 15:59   \n",
              "1  Высшее образование 1981  Военно-космическая ак...  12.04.2019 08:42   \n",
              "2  Среднее специальное образование 2002 Профессио...  16.04.2019 08:35   \n",
              "3  Высшее образование 2002  Саратовский государст...  08.04.2019 14:23   \n",
              "4  Высшее образование 2015 Кгу Психологии и педаг...  22.04.2019 10:32   \n",
              "\n",
              "                             Авто  \n",
              "0  Имеется собственный автомобиль  \n",
              "1                      Не указано  \n",
              "2                      Не указано  \n",
              "3                      Не указано  \n",
              "4                      Не указано  "
            ],
            "text/html": [
              "\n",
              "  <div id=\"df-4e231395-b63a-4b80-b3c1-78dd6d8d9b53\" class=\"colab-df-container\">\n",
              "    <div>\n",
              "<style scoped>\n",
              "    .dataframe tbody tr th:only-of-type {\n",
              "        vertical-align: middle;\n",
              "    }\n",
              "\n",
              "    .dataframe tbody tr th {\n",
              "        vertical-align: top;\n",
              "    }\n",
              "\n",
              "    .dataframe thead th {\n",
              "        text-align: right;\n",
              "    }\n",
              "</style>\n",
              "<table border=\"1\" class=\"dataframe\">\n",
              "  <thead>\n",
              "    <tr style=\"text-align: right;\">\n",
              "      <th></th>\n",
              "      <th>Пол, возраст</th>\n",
              "      <th>ЗП</th>\n",
              "      <th>Ищет работу на должность:</th>\n",
              "      <th>Город, переезд, командировки</th>\n",
              "      <th>Занятость</th>\n",
              "      <th>График</th>\n",
              "      <th>Опыт работы</th>\n",
              "      <th>Последнее/нынешнее место работы</th>\n",
              "      <th>Последняя/нынешняя должность</th>\n",
              "      <th>Образование и ВУЗ</th>\n",
              "      <th>Обновление резюме</th>\n",
              "      <th>Авто</th>\n",
              "    </tr>\n",
              "  </thead>\n",
              "  <tbody>\n",
              "    <tr>\n",
              "      <th>0</th>\n",
              "      <td>Мужчина ,  39 лет , родился 27 ноября 1979</td>\n",
              "      <td>29000 руб.</td>\n",
              "      <td>Системный администратор</td>\n",
              "      <td>Советск (Калининградская область) , не готов к...</td>\n",
              "      <td>частичная занятость, проектная работа, полная ...</td>\n",
              "      <td>гибкий график, полный день, сменный график, ва...</td>\n",
              "      <td>Опыт работы 16 лет 10 месяцев  Август 2010 — п...</td>\n",
              "      <td>МАОУ \"СОШ № 1 г.Немана\"</td>\n",
              "      <td>Системный администратор</td>\n",
              "      <td>Неоконченное высшее образование 2000  Балтийск...</td>\n",
              "      <td>16.04.2019 15:59</td>\n",
              "      <td>Имеется собственный автомобиль</td>\n",
              "    </tr>\n",
              "    <tr>\n",
              "      <th>1</th>\n",
              "      <td>Мужчина ,  60 лет , родился 20 марта 1959</td>\n",
              "      <td>40000 руб.</td>\n",
              "      <td>Технический писатель</td>\n",
              "      <td>Королев , не готов к переезду , готов к редким...</td>\n",
              "      <td>частичная занятость, проектная работа, полная ...</td>\n",
              "      <td>гибкий график, полный день, сменный график, уд...</td>\n",
              "      <td>Опыт работы 19 лет 5 месяцев  Январь 2000 — по...</td>\n",
              "      <td>Временный трудовой коллектив</td>\n",
              "      <td>Менеджер проекта, Аналитик, Технический писатель</td>\n",
              "      <td>Высшее образование 1981  Военно-космическая ак...</td>\n",
              "      <td>12.04.2019 08:42</td>\n",
              "      <td>Не указано</td>\n",
              "    </tr>\n",
              "    <tr>\n",
              "      <th>2</th>\n",
              "      <td>Женщина ,  36 лет , родилась 12 августа 1982</td>\n",
              "      <td>20000 руб.</td>\n",
              "      <td>Оператор</td>\n",
              "      <td>Тверь , не готова к переезду , не готова к ком...</td>\n",
              "      <td>полная занятость</td>\n",
              "      <td>полный день</td>\n",
              "      <td>Опыт работы 10 лет 3 месяца  Октябрь 2004 — Де...</td>\n",
              "      <td>ПАО Сбербанк</td>\n",
              "      <td>Кассир-операционист</td>\n",
              "      <td>Среднее специальное образование 2002 Профессио...</td>\n",
              "      <td>16.04.2019 08:35</td>\n",
              "      <td>Не указано</td>\n",
              "    </tr>\n",
              "    <tr>\n",
              "      <th>3</th>\n",
              "      <td>Мужчина ,  38 лет , родился 25 июня 1980</td>\n",
              "      <td>100000 руб.</td>\n",
              "      <td>Веб-разработчик (HTML / CSS / JS / PHP / базы ...</td>\n",
              "      <td>Саратов , не готов к переезду , готов к редким...</td>\n",
              "      <td>частичная занятость, проектная работа, полная ...</td>\n",
              "      <td>гибкий график, удаленная работа</td>\n",
              "      <td>Опыт работы 18 лет 9 месяцев  Август 2017 — Ап...</td>\n",
              "      <td>OpenSoft</td>\n",
              "      <td>Инженер-программист</td>\n",
              "      <td>Высшее образование 2002  Саратовский государст...</td>\n",
              "      <td>08.04.2019 14:23</td>\n",
              "      <td>Не указано</td>\n",
              "    </tr>\n",
              "    <tr>\n",
              "      <th>4</th>\n",
              "      <td>Женщина ,  26 лет , родилась 3 марта 1993</td>\n",
              "      <td>140000 руб.</td>\n",
              "      <td>Региональный менеджер по продажам</td>\n",
              "      <td>Москва , не готова к переезду , готова к коман...</td>\n",
              "      <td>полная занятость</td>\n",
              "      <td>полный день</td>\n",
              "      <td>Опыт работы 5 лет 7 месяцев  Региональный мене...</td>\n",
              "      <td>Мармелад</td>\n",
              "      <td>Менеджер по продажам</td>\n",
              "      <td>Высшее образование 2015 Кгу Психологии и педаг...</td>\n",
              "      <td>22.04.2019 10:32</td>\n",
              "      <td>Не указано</td>\n",
              "    </tr>\n",
              "  </tbody>\n",
              "</table>\n",
              "</div>\n",
              "    <div class=\"colab-df-buttons\">\n",
              "\n",
              "  <div class=\"colab-df-container\">\n",
              "    <button class=\"colab-df-convert\" onclick=\"convertToInteractive('df-4e231395-b63a-4b80-b3c1-78dd6d8d9b53')\"\n",
              "            title=\"Convert this dataframe to an interactive table.\"\n",
              "            style=\"display:none;\">\n",
              "\n",
              "  <svg xmlns=\"http://www.w3.org/2000/svg\" height=\"24px\" viewBox=\"0 -960 960 960\">\n",
              "    <path d=\"M120-120v-720h720v720H120Zm60-500h600v-160H180v160Zm220 220h160v-160H400v160Zm0 220h160v-160H400v160ZM180-400h160v-160H180v160Zm440 0h160v-160H620v160ZM180-180h160v-160H180v160Zm440 0h160v-160H620v160Z\"/>\n",
              "  </svg>\n",
              "    </button>\n",
              "\n",
              "  <style>\n",
              "    .colab-df-container {\n",
              "      display:flex;\n",
              "      gap: 12px;\n",
              "    }\n",
              "\n",
              "    .colab-df-convert {\n",
              "      background-color: #E8F0FE;\n",
              "      border: none;\n",
              "      border-radius: 50%;\n",
              "      cursor: pointer;\n",
              "      display: none;\n",
              "      fill: #1967D2;\n",
              "      height: 32px;\n",
              "      padding: 0 0 0 0;\n",
              "      width: 32px;\n",
              "    }\n",
              "\n",
              "    .colab-df-convert:hover {\n",
              "      background-color: #E2EBFA;\n",
              "      box-shadow: 0px 1px 2px rgba(60, 64, 67, 0.3), 0px 1px 3px 1px rgba(60, 64, 67, 0.15);\n",
              "      fill: #174EA6;\n",
              "    }\n",
              "\n",
              "    .colab-df-buttons div {\n",
              "      margin-bottom: 4px;\n",
              "    }\n",
              "\n",
              "    [theme=dark] .colab-df-convert {\n",
              "      background-color: #3B4455;\n",
              "      fill: #D2E3FC;\n",
              "    }\n",
              "\n",
              "    [theme=dark] .colab-df-convert:hover {\n",
              "      background-color: #434B5C;\n",
              "      box-shadow: 0px 1px 3px 1px rgba(0, 0, 0, 0.15);\n",
              "      filter: drop-shadow(0px 1px 2px rgba(0, 0, 0, 0.3));\n",
              "      fill: #FFFFFF;\n",
              "    }\n",
              "  </style>\n",
              "\n",
              "    <script>\n",
              "      const buttonEl =\n",
              "        document.querySelector('#df-4e231395-b63a-4b80-b3c1-78dd6d8d9b53 button.colab-df-convert');\n",
              "      buttonEl.style.display =\n",
              "        google.colab.kernel.accessAllowed ? 'block' : 'none';\n",
              "\n",
              "      async function convertToInteractive(key) {\n",
              "        const element = document.querySelector('#df-4e231395-b63a-4b80-b3c1-78dd6d8d9b53');\n",
              "        const dataTable =\n",
              "          await google.colab.kernel.invokeFunction('convertToInteractive',\n",
              "                                                    [key], {});\n",
              "        if (!dataTable) return;\n",
              "\n",
              "        const docLinkHtml = 'Like what you see? Visit the ' +\n",
              "          '<a target=\"_blank\" href=https://colab.research.google.com/notebooks/data_table.ipynb>data table notebook</a>'\n",
              "          + ' to learn more about interactive tables.';\n",
              "        element.innerHTML = '';\n",
              "        dataTable['output_type'] = 'display_data';\n",
              "        await google.colab.output.renderOutput(dataTable, element);\n",
              "        const docLink = document.createElement('div');\n",
              "        docLink.innerHTML = docLinkHtml;\n",
              "        element.appendChild(docLink);\n",
              "      }\n",
              "    </script>\n",
              "  </div>\n",
              "\n",
              "\n",
              "<div id=\"df-79c9b68d-f537-4c3b-b600-86299fffe292\">\n",
              "  <button class=\"colab-df-quickchart\" onclick=\"quickchart('df-79c9b68d-f537-4c3b-b600-86299fffe292')\"\n",
              "            title=\"Suggest charts\"\n",
              "            style=\"display:none;\">\n",
              "\n",
              "<svg xmlns=\"http://www.w3.org/2000/svg\" height=\"24px\"viewBox=\"0 0 24 24\"\n",
              "     width=\"24px\">\n",
              "    <g>\n",
              "        <path d=\"M19 3H5c-1.1 0-2 .9-2 2v14c0 1.1.9 2 2 2h14c1.1 0 2-.9 2-2V5c0-1.1-.9-2-2-2zM9 17H7v-7h2v7zm4 0h-2V7h2v10zm4 0h-2v-4h2v4z\"/>\n",
              "    </g>\n",
              "</svg>\n",
              "  </button>\n",
              "\n",
              "<style>\n",
              "  .colab-df-quickchart {\n",
              "      --bg-color: #E8F0FE;\n",
              "      --fill-color: #1967D2;\n",
              "      --hover-bg-color: #E2EBFA;\n",
              "      --hover-fill-color: #174EA6;\n",
              "      --disabled-fill-color: #AAA;\n",
              "      --disabled-bg-color: #DDD;\n",
              "  }\n",
              "\n",
              "  [theme=dark] .colab-df-quickchart {\n",
              "      --bg-color: #3B4455;\n",
              "      --fill-color: #D2E3FC;\n",
              "      --hover-bg-color: #434B5C;\n",
              "      --hover-fill-color: #FFFFFF;\n",
              "      --disabled-bg-color: #3B4455;\n",
              "      --disabled-fill-color: #666;\n",
              "  }\n",
              "\n",
              "  .colab-df-quickchart {\n",
              "    background-color: var(--bg-color);\n",
              "    border: none;\n",
              "    border-radius: 50%;\n",
              "    cursor: pointer;\n",
              "    display: none;\n",
              "    fill: var(--fill-color);\n",
              "    height: 32px;\n",
              "    padding: 0;\n",
              "    width: 32px;\n",
              "  }\n",
              "\n",
              "  .colab-df-quickchart:hover {\n",
              "    background-color: var(--hover-bg-color);\n",
              "    box-shadow: 0 1px 2px rgba(60, 64, 67, 0.3), 0 1px 3px 1px rgba(60, 64, 67, 0.15);\n",
              "    fill: var(--button-hover-fill-color);\n",
              "  }\n",
              "\n",
              "  .colab-df-quickchart-complete:disabled,\n",
              "  .colab-df-quickchart-complete:disabled:hover {\n",
              "    background-color: var(--disabled-bg-color);\n",
              "    fill: var(--disabled-fill-color);\n",
              "    box-shadow: none;\n",
              "  }\n",
              "\n",
              "  .colab-df-spinner {\n",
              "    border: 2px solid var(--fill-color);\n",
              "    border-color: transparent;\n",
              "    border-bottom-color: var(--fill-color);\n",
              "    animation:\n",
              "      spin 1s steps(1) infinite;\n",
              "  }\n",
              "\n",
              "  @keyframes spin {\n",
              "    0% {\n",
              "      border-color: transparent;\n",
              "      border-bottom-color: var(--fill-color);\n",
              "      border-left-color: var(--fill-color);\n",
              "    }\n",
              "    20% {\n",
              "      border-color: transparent;\n",
              "      border-left-color: var(--fill-color);\n",
              "      border-top-color: var(--fill-color);\n",
              "    }\n",
              "    30% {\n",
              "      border-color: transparent;\n",
              "      border-left-color: var(--fill-color);\n",
              "      border-top-color: var(--fill-color);\n",
              "      border-right-color: var(--fill-color);\n",
              "    }\n",
              "    40% {\n",
              "      border-color: transparent;\n",
              "      border-right-color: var(--fill-color);\n",
              "      border-top-color: var(--fill-color);\n",
              "    }\n",
              "    60% {\n",
              "      border-color: transparent;\n",
              "      border-right-color: var(--fill-color);\n",
              "    }\n",
              "    80% {\n",
              "      border-color: transparent;\n",
              "      border-right-color: var(--fill-color);\n",
              "      border-bottom-color: var(--fill-color);\n",
              "    }\n",
              "    90% {\n",
              "      border-color: transparent;\n",
              "      border-bottom-color: var(--fill-color);\n",
              "    }\n",
              "  }\n",
              "</style>\n",
              "\n",
              "  <script>\n",
              "    async function quickchart(key) {\n",
              "      const quickchartButtonEl =\n",
              "        document.querySelector('#' + key + ' button');\n",
              "      quickchartButtonEl.disabled = true;  // To prevent multiple clicks.\n",
              "      quickchartButtonEl.classList.add('colab-df-spinner');\n",
              "      try {\n",
              "        const charts = await google.colab.kernel.invokeFunction(\n",
              "            'suggestCharts', [key], {});\n",
              "      } catch (error) {\n",
              "        console.error('Error during call to suggestCharts:', error);\n",
              "      }\n",
              "      quickchartButtonEl.classList.remove('colab-df-spinner');\n",
              "      quickchartButtonEl.classList.add('colab-df-quickchart-complete');\n",
              "    }\n",
              "    (() => {\n",
              "      let quickchartButtonEl =\n",
              "        document.querySelector('#df-79c9b68d-f537-4c3b-b600-86299fffe292 button');\n",
              "      quickchartButtonEl.style.display =\n",
              "        google.colab.kernel.accessAllowed ? 'block' : 'none';\n",
              "    })();\n",
              "  </script>\n",
              "</div>\n",
              "    </div>\n",
              "  </div>\n"
            ]
          },
          "metadata": {},
          "execution_count": 46
        }
      ]
    },
    {
      "cell_type": "markdown",
      "id": "b583485d-1f9e-494e-ada4-80ffff7c53d6",
      "metadata": {
        "id": "b583485d-1f9e-494e-ada4-80ffff7c53d6"
      },
      "source": [
        "2. Выведите несколько первых (последних) строк таблицы, чтобы убедиться в том, что ваши данные не повреждены. Ознакомьтесь с признаками и их структурой."
      ]
    },
    {
      "cell_type": "code",
      "execution_count": 47,
      "id": "5408c52c-3407-4a63-b25b-1aafa2322d28",
      "metadata": {
        "id": "5408c52c-3407-4a63-b25b-1aafa2322d28",
        "colab": {
          "base_uri": "https://localhost:8080/",
          "height": 397
        },
        "outputId": "748627a2-550c-4b8e-d90f-48fc5c0199ec"
      },
      "outputs": [
        {
          "output_type": "execute_result",
          "data": {
            "text/plain": [
              "                                       Пол, возраст           ЗП  \\\n",
              "44739    Мужчина ,  30 лет , родился 17 января 1989   50000 руб.   \n",
              "44740      Мужчина ,  27 лет , родился 5 марта 1992   39000 руб.   \n",
              "44741  Женщина ,  48 лет , родилась 26 декабря 1970   40000 руб.   \n",
              "44742   Мужчина ,  24 года , родился 6 октября 1994   20000 руб.   \n",
              "44743    Мужчина ,  38 лет , родился 25 апреля 1980  120000 руб.   \n",
              "\n",
              "                               Ищет работу на должность:  \\\n",
              "44739  Финансист, аналитик, экономист, бухгалтер, мен...   \n",
              "44740             Системный администратор, IT-специалист   \n",
              "44741                         Аналитик данных, Математик   \n",
              "44742                                   Контент-менеджер   \n",
              "44743                               Руководитель проекта   \n",
              "\n",
              "                            Город, переезд, командировки  \\\n",
              "44739  Тверь , готов к переезду (Москва, Химки) , гот...   \n",
              "44740  Липецк , готов к переезду , готов к командировкам   \n",
              "44741  Челябинск , готова к переезду , готова к редки...   \n",
              "44742  Тамбов , не готов к переезду , не готов к кома...   \n",
              "44743  Москва , не готов к переезду , не готов к кома...   \n",
              "\n",
              "                                               Занятость  \\\n",
              "44739                                   полная занятость   \n",
              "44740  проектная работа, частичная занятость, полная ...   \n",
              "44741                                   полная занятость   \n",
              "44742              частичная занятость, полная занятость   \n",
              "44743                                   полная занятость   \n",
              "\n",
              "                                                  График  \\\n",
              "44739                      полный день, удаленная работа   \n",
              "44740  удаленная работа, гибкий график, полный день, ...   \n",
              "44741                      полный день, удаленная работа   \n",
              "44742                                   удаленная работа   \n",
              "44743                                        полный день   \n",
              "\n",
              "                                             Опыт работы  \\\n",
              "44739  Опыт работы 7 лет 7 месяцев  Финансист, аналит...   \n",
              "44740  Опыт работы 7 лет  Системный администратор, IT...   \n",
              "44741  Опыт работы 21 год 5 месяцев  Январь 1998 — по...   \n",
              "44742  Опыт работы 3 года 10 месяцев  Контент-менедже...   \n",
              "44743  Опыт работы 15 лет 10 месяцев  Руководитель пр...   \n",
              "\n",
              "                         Последнее/нынешнее место работы  \\\n",
              "44739  ООО \"IAS\" (независимый участник объединения Ru...   \n",
              "44740                                       ИП Пестрецов   \n",
              "44741  ОАО «ЧМК», Исследовательско-Технологический Це...   \n",
              "44742                                          IQ-Maxima   \n",
              "44743                                  ПАО ГК ТНС энерго   \n",
              "\n",
              "                    Последняя/нынешняя должность  \\\n",
              "44739                     Руководитель субгруппы   \n",
              "44740                            Предприниматель   \n",
              "44741                 Начальник группы аналитики   \n",
              "44742                          Менеджер проектов   \n",
              "44743  Руководитель отдела технической поддержки   \n",
              "\n",
              "                                       Образование и ВУЗ Обновление резюме  \\\n",
              "44739  Высшее образование 2015  Московский гуманитарн...  22.04.2019 12:32   \n",
              "44740  Высшее образование (Бакалавр) 2016  Воронежски...  22.04.2019 13:11   \n",
              "44741  Высшее образование 2000  Южно-Уральский госуда...  09.04.2019 05:07   \n",
              "44742  Высшее образование 2015  Тамбовский государств...  26.04.2019 14:25   \n",
              "44743  Высшее образование 1997  Южно-Российский госуд...  05.07.2018 20:15   \n",
              "\n",
              "                                 Авто  \n",
              "44739                      Не указано  \n",
              "44740                      Не указано  \n",
              "44741                      Не указано  \n",
              "44742  Имеется собственный автомобиль  \n",
              "44743                      Не указано  "
            ],
            "text/html": [
              "\n",
              "  <div id=\"df-9be79017-ae69-4cfa-8e02-7a09d57d0b27\" class=\"colab-df-container\">\n",
              "    <div>\n",
              "<style scoped>\n",
              "    .dataframe tbody tr th:only-of-type {\n",
              "        vertical-align: middle;\n",
              "    }\n",
              "\n",
              "    .dataframe tbody tr th {\n",
              "        vertical-align: top;\n",
              "    }\n",
              "\n",
              "    .dataframe thead th {\n",
              "        text-align: right;\n",
              "    }\n",
              "</style>\n",
              "<table border=\"1\" class=\"dataframe\">\n",
              "  <thead>\n",
              "    <tr style=\"text-align: right;\">\n",
              "      <th></th>\n",
              "      <th>Пол, возраст</th>\n",
              "      <th>ЗП</th>\n",
              "      <th>Ищет работу на должность:</th>\n",
              "      <th>Город, переезд, командировки</th>\n",
              "      <th>Занятость</th>\n",
              "      <th>График</th>\n",
              "      <th>Опыт работы</th>\n",
              "      <th>Последнее/нынешнее место работы</th>\n",
              "      <th>Последняя/нынешняя должность</th>\n",
              "      <th>Образование и ВУЗ</th>\n",
              "      <th>Обновление резюме</th>\n",
              "      <th>Авто</th>\n",
              "    </tr>\n",
              "  </thead>\n",
              "  <tbody>\n",
              "    <tr>\n",
              "      <th>44739</th>\n",
              "      <td>Мужчина ,  30 лет , родился 17 января 1989</td>\n",
              "      <td>50000 руб.</td>\n",
              "      <td>Финансист, аналитик, экономист, бухгалтер, мен...</td>\n",
              "      <td>Тверь , готов к переезду (Москва, Химки) , гот...</td>\n",
              "      <td>полная занятость</td>\n",
              "      <td>полный день, удаленная работа</td>\n",
              "      <td>Опыт работы 7 лет 7 месяцев  Финансист, аналит...</td>\n",
              "      <td>ООО \"IAS\" (независимый участник объединения Ru...</td>\n",
              "      <td>Руководитель субгруппы</td>\n",
              "      <td>Высшее образование 2015  Московский гуманитарн...</td>\n",
              "      <td>22.04.2019 12:32</td>\n",
              "      <td>Не указано</td>\n",
              "    </tr>\n",
              "    <tr>\n",
              "      <th>44740</th>\n",
              "      <td>Мужчина ,  27 лет , родился 5 марта 1992</td>\n",
              "      <td>39000 руб.</td>\n",
              "      <td>Системный администратор, IT-специалист</td>\n",
              "      <td>Липецк , готов к переезду , готов к командировкам</td>\n",
              "      <td>проектная работа, частичная занятость, полная ...</td>\n",
              "      <td>удаленная работа, гибкий график, полный день, ...</td>\n",
              "      <td>Опыт работы 7 лет  Системный администратор, IT...</td>\n",
              "      <td>ИП Пестрецов</td>\n",
              "      <td>Предприниматель</td>\n",
              "      <td>Высшее образование (Бакалавр) 2016  Воронежски...</td>\n",
              "      <td>22.04.2019 13:11</td>\n",
              "      <td>Не указано</td>\n",
              "    </tr>\n",
              "    <tr>\n",
              "      <th>44741</th>\n",
              "      <td>Женщина ,  48 лет , родилась 26 декабря 1970</td>\n",
              "      <td>40000 руб.</td>\n",
              "      <td>Аналитик данных, Математик</td>\n",
              "      <td>Челябинск , готова к переезду , готова к редки...</td>\n",
              "      <td>полная занятость</td>\n",
              "      <td>полный день, удаленная работа</td>\n",
              "      <td>Опыт работы 21 год 5 месяцев  Январь 1998 — по...</td>\n",
              "      <td>ОАО «ЧМК», Исследовательско-Технологический Це...</td>\n",
              "      <td>Начальник группы аналитики</td>\n",
              "      <td>Высшее образование 2000  Южно-Уральский госуда...</td>\n",
              "      <td>09.04.2019 05:07</td>\n",
              "      <td>Не указано</td>\n",
              "    </tr>\n",
              "    <tr>\n",
              "      <th>44742</th>\n",
              "      <td>Мужчина ,  24 года , родился 6 октября 1994</td>\n",
              "      <td>20000 руб.</td>\n",
              "      <td>Контент-менеджер</td>\n",
              "      <td>Тамбов , не готов к переезду , не готов к кома...</td>\n",
              "      <td>частичная занятость, полная занятость</td>\n",
              "      <td>удаленная работа</td>\n",
              "      <td>Опыт работы 3 года 10 месяцев  Контент-менедже...</td>\n",
              "      <td>IQ-Maxima</td>\n",
              "      <td>Менеджер проектов</td>\n",
              "      <td>Высшее образование 2015  Тамбовский государств...</td>\n",
              "      <td>26.04.2019 14:25</td>\n",
              "      <td>Имеется собственный автомобиль</td>\n",
              "    </tr>\n",
              "    <tr>\n",
              "      <th>44743</th>\n",
              "      <td>Мужчина ,  38 лет , родился 25 апреля 1980</td>\n",
              "      <td>120000 руб.</td>\n",
              "      <td>Руководитель проекта</td>\n",
              "      <td>Москва , не готов к переезду , не готов к кома...</td>\n",
              "      <td>полная занятость</td>\n",
              "      <td>полный день</td>\n",
              "      <td>Опыт работы 15 лет 10 месяцев  Руководитель пр...</td>\n",
              "      <td>ПАО ГК ТНС энерго</td>\n",
              "      <td>Руководитель отдела технической поддержки</td>\n",
              "      <td>Высшее образование 1997  Южно-Российский госуд...</td>\n",
              "      <td>05.07.2018 20:15</td>\n",
              "      <td>Не указано</td>\n",
              "    </tr>\n",
              "  </tbody>\n",
              "</table>\n",
              "</div>\n",
              "    <div class=\"colab-df-buttons\">\n",
              "\n",
              "  <div class=\"colab-df-container\">\n",
              "    <button class=\"colab-df-convert\" onclick=\"convertToInteractive('df-9be79017-ae69-4cfa-8e02-7a09d57d0b27')\"\n",
              "            title=\"Convert this dataframe to an interactive table.\"\n",
              "            style=\"display:none;\">\n",
              "\n",
              "  <svg xmlns=\"http://www.w3.org/2000/svg\" height=\"24px\" viewBox=\"0 -960 960 960\">\n",
              "    <path d=\"M120-120v-720h720v720H120Zm60-500h600v-160H180v160Zm220 220h160v-160H400v160Zm0 220h160v-160H400v160ZM180-400h160v-160H180v160Zm440 0h160v-160H620v160ZM180-180h160v-160H180v160Zm440 0h160v-160H620v160Z\"/>\n",
              "  </svg>\n",
              "    </button>\n",
              "\n",
              "  <style>\n",
              "    .colab-df-container {\n",
              "      display:flex;\n",
              "      gap: 12px;\n",
              "    }\n",
              "\n",
              "    .colab-df-convert {\n",
              "      background-color: #E8F0FE;\n",
              "      border: none;\n",
              "      border-radius: 50%;\n",
              "      cursor: pointer;\n",
              "      display: none;\n",
              "      fill: #1967D2;\n",
              "      height: 32px;\n",
              "      padding: 0 0 0 0;\n",
              "      width: 32px;\n",
              "    }\n",
              "\n",
              "    .colab-df-convert:hover {\n",
              "      background-color: #E2EBFA;\n",
              "      box-shadow: 0px 1px 2px rgba(60, 64, 67, 0.3), 0px 1px 3px 1px rgba(60, 64, 67, 0.15);\n",
              "      fill: #174EA6;\n",
              "    }\n",
              "\n",
              "    .colab-df-buttons div {\n",
              "      margin-bottom: 4px;\n",
              "    }\n",
              "\n",
              "    [theme=dark] .colab-df-convert {\n",
              "      background-color: #3B4455;\n",
              "      fill: #D2E3FC;\n",
              "    }\n",
              "\n",
              "    [theme=dark] .colab-df-convert:hover {\n",
              "      background-color: #434B5C;\n",
              "      box-shadow: 0px 1px 3px 1px rgba(0, 0, 0, 0.15);\n",
              "      filter: drop-shadow(0px 1px 2px rgba(0, 0, 0, 0.3));\n",
              "      fill: #FFFFFF;\n",
              "    }\n",
              "  </style>\n",
              "\n",
              "    <script>\n",
              "      const buttonEl =\n",
              "        document.querySelector('#df-9be79017-ae69-4cfa-8e02-7a09d57d0b27 button.colab-df-convert');\n",
              "      buttonEl.style.display =\n",
              "        google.colab.kernel.accessAllowed ? 'block' : 'none';\n",
              "\n",
              "      async function convertToInteractive(key) {\n",
              "        const element = document.querySelector('#df-9be79017-ae69-4cfa-8e02-7a09d57d0b27');\n",
              "        const dataTable =\n",
              "          await google.colab.kernel.invokeFunction('convertToInteractive',\n",
              "                                                    [key], {});\n",
              "        if (!dataTable) return;\n",
              "\n",
              "        const docLinkHtml = 'Like what you see? Visit the ' +\n",
              "          '<a target=\"_blank\" href=https://colab.research.google.com/notebooks/data_table.ipynb>data table notebook</a>'\n",
              "          + ' to learn more about interactive tables.';\n",
              "        element.innerHTML = '';\n",
              "        dataTable['output_type'] = 'display_data';\n",
              "        await google.colab.output.renderOutput(dataTable, element);\n",
              "        const docLink = document.createElement('div');\n",
              "        docLink.innerHTML = docLinkHtml;\n",
              "        element.appendChild(docLink);\n",
              "      }\n",
              "    </script>\n",
              "  </div>\n",
              "\n",
              "\n",
              "<div id=\"df-bfce6dfb-30c3-4798-aa61-dc4154674988\">\n",
              "  <button class=\"colab-df-quickchart\" onclick=\"quickchart('df-bfce6dfb-30c3-4798-aa61-dc4154674988')\"\n",
              "            title=\"Suggest charts\"\n",
              "            style=\"display:none;\">\n",
              "\n",
              "<svg xmlns=\"http://www.w3.org/2000/svg\" height=\"24px\"viewBox=\"0 0 24 24\"\n",
              "     width=\"24px\">\n",
              "    <g>\n",
              "        <path d=\"M19 3H5c-1.1 0-2 .9-2 2v14c0 1.1.9 2 2 2h14c1.1 0 2-.9 2-2V5c0-1.1-.9-2-2-2zM9 17H7v-7h2v7zm4 0h-2V7h2v10zm4 0h-2v-4h2v4z\"/>\n",
              "    </g>\n",
              "</svg>\n",
              "  </button>\n",
              "\n",
              "<style>\n",
              "  .colab-df-quickchart {\n",
              "      --bg-color: #E8F0FE;\n",
              "      --fill-color: #1967D2;\n",
              "      --hover-bg-color: #E2EBFA;\n",
              "      --hover-fill-color: #174EA6;\n",
              "      --disabled-fill-color: #AAA;\n",
              "      --disabled-bg-color: #DDD;\n",
              "  }\n",
              "\n",
              "  [theme=dark] .colab-df-quickchart {\n",
              "      --bg-color: #3B4455;\n",
              "      --fill-color: #D2E3FC;\n",
              "      --hover-bg-color: #434B5C;\n",
              "      --hover-fill-color: #FFFFFF;\n",
              "      --disabled-bg-color: #3B4455;\n",
              "      --disabled-fill-color: #666;\n",
              "  }\n",
              "\n",
              "  .colab-df-quickchart {\n",
              "    background-color: var(--bg-color);\n",
              "    border: none;\n",
              "    border-radius: 50%;\n",
              "    cursor: pointer;\n",
              "    display: none;\n",
              "    fill: var(--fill-color);\n",
              "    height: 32px;\n",
              "    padding: 0;\n",
              "    width: 32px;\n",
              "  }\n",
              "\n",
              "  .colab-df-quickchart:hover {\n",
              "    background-color: var(--hover-bg-color);\n",
              "    box-shadow: 0 1px 2px rgba(60, 64, 67, 0.3), 0 1px 3px 1px rgba(60, 64, 67, 0.15);\n",
              "    fill: var(--button-hover-fill-color);\n",
              "  }\n",
              "\n",
              "  .colab-df-quickchart-complete:disabled,\n",
              "  .colab-df-quickchart-complete:disabled:hover {\n",
              "    background-color: var(--disabled-bg-color);\n",
              "    fill: var(--disabled-fill-color);\n",
              "    box-shadow: none;\n",
              "  }\n",
              "\n",
              "  .colab-df-spinner {\n",
              "    border: 2px solid var(--fill-color);\n",
              "    border-color: transparent;\n",
              "    border-bottom-color: var(--fill-color);\n",
              "    animation:\n",
              "      spin 1s steps(1) infinite;\n",
              "  }\n",
              "\n",
              "  @keyframes spin {\n",
              "    0% {\n",
              "      border-color: transparent;\n",
              "      border-bottom-color: var(--fill-color);\n",
              "      border-left-color: var(--fill-color);\n",
              "    }\n",
              "    20% {\n",
              "      border-color: transparent;\n",
              "      border-left-color: var(--fill-color);\n",
              "      border-top-color: var(--fill-color);\n",
              "    }\n",
              "    30% {\n",
              "      border-color: transparent;\n",
              "      border-left-color: var(--fill-color);\n",
              "      border-top-color: var(--fill-color);\n",
              "      border-right-color: var(--fill-color);\n",
              "    }\n",
              "    40% {\n",
              "      border-color: transparent;\n",
              "      border-right-color: var(--fill-color);\n",
              "      border-top-color: var(--fill-color);\n",
              "    }\n",
              "    60% {\n",
              "      border-color: transparent;\n",
              "      border-right-color: var(--fill-color);\n",
              "    }\n",
              "    80% {\n",
              "      border-color: transparent;\n",
              "      border-right-color: var(--fill-color);\n",
              "      border-bottom-color: var(--fill-color);\n",
              "    }\n",
              "    90% {\n",
              "      border-color: transparent;\n",
              "      border-bottom-color: var(--fill-color);\n",
              "    }\n",
              "  }\n",
              "</style>\n",
              "\n",
              "  <script>\n",
              "    async function quickchart(key) {\n",
              "      const quickchartButtonEl =\n",
              "        document.querySelector('#' + key + ' button');\n",
              "      quickchartButtonEl.disabled = true;  // To prevent multiple clicks.\n",
              "      quickchartButtonEl.classList.add('colab-df-spinner');\n",
              "      try {\n",
              "        const charts = await google.colab.kernel.invokeFunction(\n",
              "            'suggestCharts', [key], {});\n",
              "      } catch (error) {\n",
              "        console.error('Error during call to suggestCharts:', error);\n",
              "      }\n",
              "      quickchartButtonEl.classList.remove('colab-df-spinner');\n",
              "      quickchartButtonEl.classList.add('colab-df-quickchart-complete');\n",
              "    }\n",
              "    (() => {\n",
              "      let quickchartButtonEl =\n",
              "        document.querySelector('#df-bfce6dfb-30c3-4798-aa61-dc4154674988 button');\n",
              "      quickchartButtonEl.style.display =\n",
              "        google.colab.kernel.accessAllowed ? 'block' : 'none';\n",
              "    })();\n",
              "  </script>\n",
              "</div>\n",
              "    </div>\n",
              "  </div>\n"
            ]
          },
          "metadata": {},
          "execution_count": 47
        }
      ],
      "source": [
        "df_hh.tail()"
      ]
    },
    {
      "cell_type": "code",
      "source": [
        "df_hh.shape"
      ],
      "metadata": {
        "id": "kzEW7OP5PUey",
        "colab": {
          "base_uri": "https://localhost:8080/"
        },
        "outputId": "b2470438-ad4c-489d-8990-9b03f63e6b22"
      },
      "id": "kzEW7OP5PUey",
      "execution_count": 48,
      "outputs": [
        {
          "output_type": "execute_result",
          "data": {
            "text/plain": [
              "(44744, 12)"
            ]
          },
          "metadata": {},
          "execution_count": 48
        }
      ]
    },
    {
      "cell_type": "markdown",
      "id": "a2bfff1f-c975-4bf6-84be-2185d79dcb76",
      "metadata": {
        "id": "a2bfff1f-c975-4bf6-84be-2185d79dcb76"
      },
      "source": [
        "3. Выведите основную информацию о числе непустых значений в столбцах и их типах в таблице."
      ]
    },
    {
      "cell_type": "code",
      "source": [
        "df_hh.isnull().sum()"
      ],
      "metadata": {
        "colab": {
          "base_uri": "https://localhost:8080/"
        },
        "id": "8ub5voA28VD0",
        "outputId": "2bd18e5b-db13-4ca8-d05c-5c421145beaf"
      },
      "id": "8ub5voA28VD0",
      "execution_count": 133,
      "outputs": [
        {
          "output_type": "execute_result",
          "data": {
            "text/plain": [
              "Пол, возраст                                    0\n",
              "ЗП                                              0\n",
              "Ищет работу на должность:                       0\n",
              "Город, переезд, командировки                    0\n",
              "Занятость                                       0\n",
              "График                                          0\n",
              "Опыт работы                                   168\n",
              "Последнее/нынешнее место работы                 1\n",
              "Последняя/нынешняя должность                    2\n",
              "Образование и ВУЗ                               0\n",
              "Обновление резюме                               0\n",
              "Авто                                            0\n",
              "Образование                                     0\n",
              "Пол                                             0\n",
              "Возраст                                         0\n",
              "Опыт работы в мес.                            170\n",
              "Город                                           0\n",
              "Готовность к переезду                           0\n",
              "Готовность к командировкам                      0\n",
              "Готовность и к переезду, и к командировкам      0\n",
              "полная занятость                                0\n",
              "частичная занятость                             0\n",
              "проектная работа                                0\n",
              "стажировка                                      0\n",
              "волонтёрство                                    0\n",
              "гибкий график                                   0\n",
              "полный день                                     0\n",
              "удаленная работа                                0\n",
              "сменный график                                  0\n",
              "вахтовый метод                                  0\n",
              "reload_date                                     0\n",
              "salary                                          0\n",
              "currency                                        0\n",
              "dtype: int64"
            ]
          },
          "metadata": {},
          "execution_count": 133
        }
      ]
    },
    {
      "cell_type": "markdown",
      "id": "41bb59f3-53cc-4a67-a5bc-bedf573955e4",
      "metadata": {
        "id": "41bb59f3-53cc-4a67-a5bc-bedf573955e4"
      },
      "source": [
        "4. Обратите внимание на информацию о числе непустых значений."
      ]
    },
    {
      "cell_type": "code",
      "source": [
        "(df_hh.isnull().sum() != 0).sum()"
      ],
      "metadata": {
        "colab": {
          "base_uri": "https://localhost:8080/"
        },
        "id": "eCH70kwb9Oo3",
        "outputId": "8c37dd69-253b-4a90-f9fa-619403a499c0"
      },
      "id": "eCH70kwb9Oo3",
      "execution_count": 137,
      "outputs": [
        {
          "output_type": "execute_result",
          "data": {
            "text/plain": [
              "4"
            ]
          },
          "metadata": {},
          "execution_count": 137
        }
      ]
    },
    {
      "cell_type": "markdown",
      "id": "9a8a2181-6914-448b-85f1-38f5f18b8a93",
      "metadata": {
        "id": "9a8a2181-6914-448b-85f1-38f5f18b8a93"
      },
      "source": [
        "5. Выведите основную статистическую информацию о столбцах.\n"
      ]
    },
    {
      "cell_type": "code",
      "execution_count": 50,
      "id": "be4e9bd3-a4db-4a20-82fb-6b02fc2957e0",
      "metadata": {
        "id": "be4e9bd3-a4db-4a20-82fb-6b02fc2957e0",
        "colab": {
          "base_uri": "https://localhost:8080/"
        },
        "outputId": "17f27b38-f4e3-4bd4-ad2a-f8ffb684a1d8"
      },
      "outputs": [
        {
          "output_type": "stream",
          "name": "stdout",
          "text": [
            "<class 'pandas.core.frame.DataFrame'>\n",
            "RangeIndex: 44744 entries, 0 to 44743\n",
            "Data columns (total 12 columns):\n",
            " #   Column                           Non-Null Count  Dtype \n",
            "---  ------                           --------------  ----- \n",
            " 0   Пол, возраст                     44744 non-null  object\n",
            " 1   ЗП                               44744 non-null  object\n",
            " 2   Ищет работу на должность:        44744 non-null  object\n",
            " 3   Город, переезд, командировки     44744 non-null  object\n",
            " 4   Занятость                        44744 non-null  object\n",
            " 5   График                           44744 non-null  object\n",
            " 6   Опыт работы                      44576 non-null  object\n",
            " 7   Последнее/нынешнее место работы  44743 non-null  object\n",
            " 8   Последняя/нынешняя должность     44742 non-null  object\n",
            " 9   Образование и ВУЗ                44744 non-null  object\n",
            " 10  Обновление резюме                44744 non-null  object\n",
            " 11  Авто                             44744 non-null  object\n",
            "dtypes: object(12)\n",
            "memory usage: 4.1+ MB\n"
          ]
        }
      ],
      "source": [
        "df_hh.info()"
      ]
    },
    {
      "cell_type": "markdown",
      "id": "8d62a9f3-f64e-4fe7-bdac-c4dffa16155e",
      "metadata": {
        "id": "8d62a9f3-f64e-4fe7-bdac-c4dffa16155e"
      },
      "source": [
        "# Преобразование данных"
      ]
    },
    {
      "cell_type": "markdown",
      "id": "93053d3d-b284-481a-9cf7-012d7014c0e0",
      "metadata": {
        "id": "93053d3d-b284-481a-9cf7-012d7014c0e0"
      },
      "source": [
        "1. Начнем с простого - с признака **\"Образование и ВУЗ\"**. Его текущий формат это: **<Уровень образования год выпуска ВУЗ специальность...>**. Например:\n",
        "* Высшее образование 2016 Московский авиационный институт (национальный исследовательский университет)...\n",
        "* Неоконченное высшее образование 2000  Балтийская государственная академия рыбопромыслового флота…\n",
        "Нас будет интересовать только уровень образования.\n",
        "\n",
        "Создайте с помощью функции-преобразования новый признак **\"Образование\"**, который должен иметь 4 категории: \"высшее\", \"неоконченное высшее\", \"среднее специальное\" и \"среднее\".\n",
        "\n",
        "Выполните преобразование, ответьте на контрольные вопросы и удалите признак \"Образование и ВУЗ\".\n",
        "\n",
        "Совет: обратите внимание на структуру текста в столбце **\"Образование и ВУЗ\"**. Гарантируется, что текущий уровень образования соискателя всегда находится в первых 2ух слов и начинается с заглавной буквы. Воспользуйтесь этим.\n",
        "\n",
        "*Совет: проверяйте полученные категории, например, с помощью метода unique()*\n"
      ]
    },
    {
      "cell_type": "code",
      "execution_count": 138,
      "id": "3f069da6-fdc9-4ae7-b514-fafe2675efd3",
      "metadata": {
        "id": "3f069da6-fdc9-4ae7-b514-fafe2675efd3",
        "colab": {
          "base_uri": "https://localhost:8080/"
        },
        "outputId": "4c307baf-f4e0-4eb8-aef9-a256342f2e0f"
      },
      "outputs": [
        {
          "output_type": "execute_result",
          "data": {
            "text/plain": [
              "array(['Неоконченное высшее', 'Высшее образование', 'Среднее специальное',\n",
              "       'Среднее образование'], dtype=object)"
            ]
          },
          "metadata": {},
          "execution_count": 138
        }
      ],
      "source": [
        "df_hh['Образование'] = df_hh['Образование и ВУЗ'].apply(lambda x: ' '.join(x.split()[:2]))\n",
        "df_hh['Образование'].unique()\n"
      ]
    },
    {
      "cell_type": "markdown",
      "id": "4266f0b6-1646-492a-88b4-2f6a46502135",
      "metadata": {
        "id": "4266f0b6-1646-492a-88b4-2f6a46502135"
      },
      "source": [
        "2. Теперь нас интересует столбец **\"Пол, возраст\"**. Сейчас он представлен в формате **<Пол , возраст , дата рождения >**. Например:\n",
        "* Мужчина , 39 лет , родился 27 ноября 1979\n",
        "* Женщина , 21 год , родилась 13 января 2000\n",
        "Как вы понимаете, нам необходимо выделить каждый параметр в отдельный столбец.\n",
        "\n",
        "Создайте два новых признака **\"Пол\"** и **\"Возраст\"**. При этом важно учесть:\n",
        "* Признак пола должен иметь 2 уникальных строковых значения: 'М' - мужчина, 'Ж' - женщина.\n",
        "* Признак возраста должен быть представлен целыми числами.\n",
        "\n",
        "Выполните преобразование, ответьте на контрольные вопросы и удалите признак **\"Пол, возраст\"** из таблицы.\n",
        "\n",
        "*Совет: обратите внимание на структуру текста в столбце, в части на то, как разделены параметры пола, возраста и даты рождения между собой - символом ' , '.\n",
        "Гарантируется, что структура одинакова для всех строк в таблице. Вы можете воспользоваться этим.*\n"
      ]
    },
    {
      "cell_type": "code",
      "execution_count": 139,
      "id": "0c44b350-72eb-4d65-8b54-a1fc449ba9fd",
      "metadata": {
        "id": "0c44b350-72eb-4d65-8b54-a1fc449ba9fd",
        "colab": {
          "base_uri": "https://localhost:8080/"
        },
        "outputId": "006837ff-a64b-42d5-f251-16c397c8a51f"
      },
      "outputs": [
        {
          "output_type": "execute_result",
          "data": {
            "text/plain": [
              "М    0.809293\n",
              "Ж    0.190707\n",
              "Name: Пол, dtype: float64"
            ]
          },
          "metadata": {},
          "execution_count": 139
        }
      ],
      "source": [
        "df_hh['Пол'] = df_hh['Пол, возраст'].apply(lambda x: x[0])\n",
        "df_hh['Пол'].value_counts(normalize=True)"
      ]
    },
    {
      "cell_type": "code",
      "source": [
        "df_hh['Возраст'] = df_hh['Пол, возраст'].apply(lambda x: x.split(',')[1])\n",
        "df_hh['Возраст'] = df_hh['Возраст'].apply(lambda x: int(x.split()[0]))\n",
        "df_hh['Возраст'].mean().round(1)"
      ],
      "metadata": {
        "colab": {
          "base_uri": "https://localhost:8080/"
        },
        "id": "hwUEQ-mE6kw9",
        "outputId": "c6a5478c-3b1e-41dc-ea7a-c797856695e0"
      },
      "id": "hwUEQ-mE6kw9",
      "execution_count": 141,
      "outputs": [
        {
          "output_type": "execute_result",
          "data": {
            "text/plain": [
              "32.2"
            ]
          },
          "metadata": {},
          "execution_count": 141
        }
      ]
    },
    {
      "cell_type": "markdown",
      "id": "635c4d5d-f323-4c66-b428-50a088120aa0",
      "metadata": {
        "id": "635c4d5d-f323-4c66-b428-50a088120aa0"
      },
      "source": [
        "3. Следующим этапом преобразуем признак **\"Опыт работы\"**. Его текущий формат - это: **<Опыт работы: n лет m месяцев, периоды работы в различных компаниях…>**.\n",
        "\n",
        "Из столбца нам необходимо выделить общий опыт работы соискателя в месяцах, новый признак назовем \"Опыт работы (месяц)\"\n",
        "\n",
        "Для начала обсудим условия решения задачи:\n",
        "* Во-первых, в данном признаке есть пропуски. Условимся, что если мы встречаем пропуск, оставляем его как есть (функция-преобразование возвращает NaN)\n",
        "* Во-вторых, в данном признаке есть скрытые пропуски. Для некоторых соискателей в столбце стоит значения \"Не указано\". Их тоже обозначим как NaN (функция-преобразование возвращает NaN)\n",
        "* В-третьих, нас не интересует информация, которая описывается после указания опыта работы (периоды работы в различных компаниях)\n",
        "* В-четвертых, у нас есть проблема: опыт работы может быть представлен только в годах или только месяцах. Например, можно встретить следующие варианты:\n",
        "    * Опыт работы 3 года 2 месяца…\n",
        "    * Опыт работы 4 года…\n",
        "    * Опыт работы 11 месяцев…\n",
        "    * Учитывайте эту особенность в вашем коде\n",
        "\n",
        "Учитывайте эту особенность в вашем коде\n",
        "\n",
        "В результате преобразования у вас должен получиться столбец, содержащий информацию о том, сколько месяцев проработал соискатель.\n",
        "Выполните преобразование, ответьте на контрольные вопросы и удалите столбец **\"Опыт работы\"** из таблицы.\n"
      ]
    },
    {
      "cell_type": "code",
      "execution_count": 142,
      "id": "603cdbe4-0ec3-4106-8eaf-c73fcdd29165",
      "metadata": {
        "id": "603cdbe4-0ec3-4106-8eaf-c73fcdd29165",
        "colab": {
          "base_uri": "https://localhost:8080/"
        },
        "outputId": "ae1935a9-41fc-4df5-c453-5056a285e7c4"
      },
      "outputs": [
        {
          "output_type": "execute_result",
          "data": {
            "text/plain": [
              "170"
            ]
          },
          "metadata": {},
          "execution_count": 142
        }
      ],
      "source": [
        "df_hh['Опыт работы в мес.'] = df_hh['Опыт работы'].apply(lambda x: np.nan if x == 'Не указано' else (x.split()[2:5] if isinstance(x, str) == True else np.nan))\n",
        "df_hh['Опыт работы в мес.'].isna().sum()"
      ]
    },
    {
      "cell_type": "code",
      "source": [
        "# ф-ция для преобразования опыта работы в месяцы\n",
        "def exp(x) -> int:\n",
        "  if x != x:\n",
        "    return x\n",
        "\n",
        "  else:\n",
        "    count_month = 0\n",
        "\n",
        "    if x[1].startswith(\"л\") or x[1].startswith(\"г\"):\n",
        "      count_month += int(x[0]) * 12\n",
        "\n",
        "    elif x[1].startswith(\"м\"):\n",
        "      count_month += int(x[0])\n",
        "\n",
        "    try:\n",
        "      int(x[2])\n",
        "    except ValueError:\n",
        "      count_month += 0\n",
        "    else:\n",
        "      count_month += int(x[2])\n",
        "\n",
        "    return count_month"
      ],
      "metadata": {
        "id": "emmxuw7xIS2C"
      },
      "id": "emmxuw7xIS2C",
      "execution_count": 60,
      "outputs": []
    },
    {
      "cell_type": "code",
      "source": [
        "df_hh['Опыт работы в мес.'] = df_hh['Опыт работы в мес.'].apply(exp)\n",
        "df_hh['Опыт работы в мес.'].median()"
      ],
      "metadata": {
        "id": "fQixsKhNEH2_",
        "colab": {
          "base_uri": "https://localhost:8080/"
        },
        "outputId": "337e3aa4-6d3d-438e-b5c4-1802914ab15b"
      },
      "id": "fQixsKhNEH2_",
      "execution_count": 143,
      "outputs": [
        {
          "output_type": "execute_result",
          "data": {
            "text/plain": [
              "100.0"
            ]
          },
          "metadata": {},
          "execution_count": 143
        }
      ]
    },
    {
      "cell_type": "markdown",
      "id": "f3fdaec9-5fd3-4260-9cf5-1d7406b628a5",
      "metadata": {
        "id": "f3fdaec9-5fd3-4260-9cf5-1d7406b628a5"
      },
      "source": [
        "4. Хорошо идем! Следующий на очереди признак \"Город, переезд, командировки\". Информация в нем представлена в следующем виде: **<Город , (метро) , готовность к переезду (города для переезда) , готовность к командировкам>**. В скобках указаны необязательные параметры строки. Например, можно встретить следующие варианты:\n",
        "\n",
        "* Москва , не готов к переезду , готов к командировкам\n",
        "* Москва , м. Беломорская , не готов к переезду, не готов к командировкам\n",
        "* Воронеж , готов к переезду (Сочи, Москва, Санкт-Петербург) , готов к командировкам\n",
        "\n",
        "Создадим отдельные признаки **\"Город\"**, **\"Готовность к переезду\"**, **\"Готовность к командировкам\"**. При этом важно учесть:\n",
        "\n",
        "* Признак **\"Город\"** должен содержать только 4 категории: \"Москва\", \"Санкт-Петербург\" и \"город-миллионник\" (их список ниже), остальные обозначьте как \"другие\".\n",
        "\n",
        "    Список городов-миллионников:\n",
        "    \n",
        "   <code>million_cities = ['Новосибирск', 'Екатеринбург','Нижний Новгород','Казань', 'Челябинск','Омск', 'Самара', 'Ростов-на-Дону', 'Уфа', 'Красноярск', 'Пермь', 'Воронеж','Волгоград']\n",
        "    </code>\n",
        "    Инфорация о метро, рядом с которым проживает соискатель нас не интересует.\n",
        "* Признак **\"Готовность к переезду\"** должен иметь два возможных варианта: True или False. Обратите внимание, что возможны несколько вариантов описания готовности к переезду в признаке \"Город, переезд, командировки\". Например:\n",
        "    * … , готов к переезду , …\n",
        "    * … , не готова к переезду , …\n",
        "    * … , готова к переезду (Москва, Санкт-Петербург, Ростов-на-Дону)\n",
        "    * … , хочу переехать (США) , …\n",
        "    \n",
        "    Нас интересует только сам факт возможности или желания переезда.\n",
        "* Признак **\"Готовность к командировкам\"** должен иметь два возможных варианта: True или False. Обратите внимание, что возможны несколько вариантов описания готовности к командировкам в признаке \"Город, переезд, командировки\". Например:\n",
        "    * … , готов к командировкам , …\n",
        "    * … , готова к редким командировкам , …\n",
        "    * … , не готов к командировкам , …\n",
        "    \n",
        "    Нас интересует только сам факт готовности к командировке.\n",
        "    \n",
        "    Еще один важный факт: при выгрузки данных у некоторых соискателей \"потерялась\" информация о готовности к командировкам. Давайте по умолчанию будем считать, что такие соискатели не готовы к командировкам.\n",
        "    \n",
        "Выполните преобразования и удалите столбец **\"Город, переезд, командировки\"** из таблицы.\n",
        "\n",
        "*Совет: обратите внимание на то, что структура текста может меняться в зависимости от указания ближайшего метро. Учите это, если будете использовать порядок слов в своей программе.*\n"
      ]
    },
    {
      "cell_type": "code",
      "source": [
        "million_cities = ['Новосибирск', 'Екатеринбург', 'Нижний Новгород', 'Казань', 'Челябинск', 'Омск', 'Самара', 'Ростов-на-Дону', 'Уфа', 'Красноярск', 'Пермь', 'Воронеж', 'Волгоград' ]\n",
        "\n",
        "# ф-ция для преобразования списка городов в категории\n",
        "def city(x: str):\n",
        "  if x == 'Москва' or x == 'Санкт-Петербург':\n",
        "    return x\n",
        "  elif x in million_cities:\n",
        "    return 'город-миллионник'\n",
        "  else:\n",
        "    return 'другие'"
      ],
      "metadata": {
        "id": "sa6t1TbhsV0W"
      },
      "id": "sa6t1TbhsV0W",
      "execution_count": 67,
      "outputs": []
    },
    {
      "cell_type": "code",
      "source": [
        "df_hh['Город'] = df_hh['Город, переезд, командировки'].apply(lambda x: x.split()[0])\n",
        "df_hh['Город'] = df_hh['Город'].apply(city)\n",
        "df_hh['Город'].value_counts(normalize=True)"
      ],
      "metadata": {
        "id": "1vGFNh9js0M_",
        "colab": {
          "base_uri": "https://localhost:8080/"
        },
        "outputId": "38995c34-2975-441e-9f97-4e2883e61de7"
      },
      "id": "1vGFNh9js0M_",
      "execution_count": 144,
      "outputs": [
        {
          "output_type": "execute_result",
          "data": {
            "text/plain": [
              "Москва              0.371469\n",
              "другие              0.367692\n",
              "город-миллионник    0.150501\n",
              "Санкт-Петербург     0.110339\n",
              "Name: Город, dtype: float64"
            ]
          },
          "metadata": {},
          "execution_count": 144
        }
      ]
    },
    {
      "cell_type": "code",
      "source": [
        "# ф-ция для преобразования информации о командировках\n",
        "def business_trip(x: str):\n",
        "  if 'командиров' not in x:\n",
        "    return False\n",
        "  elif 'не готов' in x:\n",
        "    return False\n",
        "  else:\n",
        "    return True"
      ],
      "metadata": {
        "id": "w6IErMv1vHka"
      },
      "id": "w6IErMv1vHka",
      "execution_count": 70,
      "outputs": []
    },
    {
      "cell_type": "code",
      "source": [
        "# ф-ция для преобразования информации о переезде\n",
        "def moving(x: str):\n",
        "  if 'перее' not in x:\n",
        "    return False\n",
        "  elif 'не готов' in x:\n",
        "    return False\n",
        "  else:\n",
        "    return True"
      ],
      "metadata": {
        "id": "5bkCYhCPvuoN"
      },
      "id": "5bkCYhCPvuoN",
      "execution_count": 71,
      "outputs": []
    },
    {
      "cell_type": "code",
      "source": [
        "df_hh['Готовность к переезду'] = df_hh['Город, переезд, командировки'].apply(lambda x: x.split(',')[-2])\n",
        "df_hh['Готовность к командировкам'] = df_hh['Город, переезд, командировки'].apply(lambda x: x.split(',')[-1])\n",
        "df_hh['Готовность к переезду'] = df_hh['Город, переезд, командировки'].apply(moving)\n",
        "df_hh['Готовность к командировкам'] = df_hh['Город, переезд, командировки'].apply(business_trip)"
      ],
      "metadata": {
        "id": "WPwvwoSftQZ0"
      },
      "id": "WPwvwoSftQZ0",
      "execution_count": 72,
      "outputs": []
    },
    {
      "cell_type": "code",
      "source": [
        "df_hh['Готовность и к переезду, и к командировкам'] = df_hh['Готовность к переезду'] & df_hh['Готовность к переезду']\n",
        "df_hh['Готовность и к переезду, и к командировкам'].value_counts(normalize=True)"
      ],
      "metadata": {
        "id": "yMPK4sVrule3",
        "colab": {
          "base_uri": "https://localhost:8080/"
        },
        "outputId": "a4dda4ec-6f87-4c48-8640-d13709b4fa2f"
      },
      "id": "yMPK4sVrule3",
      "execution_count": 145,
      "outputs": [
        {
          "output_type": "execute_result",
          "data": {
            "text/plain": [
              "False    0.679644\n",
              "True     0.320356\n",
              "Name: Готовность и к переезду, и к командировкам, dtype: float64"
            ]
          },
          "metadata": {},
          "execution_count": 145
        }
      ]
    },
    {
      "cell_type": "markdown",
      "id": "0136ffee-0ead-4a6b-b608-61d1c753a438",
      "metadata": {
        "id": "0136ffee-0ead-4a6b-b608-61d1c753a438"
      },
      "source": [
        "5. Рассмотрим поближе признаки **\"Занятость\"** и **\"График\"**. Сейчас признаки представляют собой набор категорий желаемой занятости (полная занятость, частичная занятость, проектная работа, волонтерство, стажировка) и желаемого графика работы (полный день, сменный график, гибкий график, удаленная работа, вахтовый метод).\n",
        "На сайте hh.ru соискатель может указывать различные комбинации данных категорий, например:\n",
        "* полная занятость, частичная занятость\n",
        "* частичная занятость, проектная работа, волонтерство\n",
        "* полный день, удаленная работа\n",
        "* вахтовый метод, гибкий график, удаленная работа, полная занятость\n",
        "\n",
        "Такой вариант признаков имеет множество различных комбинаций, а значит множество уникальных значений, что мешает анализу. Нужно это исправить!\n",
        "\n",
        "Давайте создадим признаки-мигалки для каждой категории: если категория присутствует в списке желаемых соискателем, то в столбце на месте строки рассматриваемого соискателя ставится True, иначе - False.\n",
        "\n",
        "Такой метод преобразования категориальных признаков называется One Hot Encoding и его схема представлена на рисунке ниже:\n",
        "<img src=https://raw.githubusercontent.com/AndreyRysistov/DatasetsForPandas/main/ohe.jpg>\n",
        "Выполните данное преобразование для признаков \"Занятость\" и \"График\", ответьте на контрольные вопросы, после чего удалите их из таблицы"
      ]
    },
    {
      "cell_type": "code",
      "source": [
        "df_hh['полная занятость'] = df_hh['Занятость'].apply(lambda x: True if 'полная занятость' in x else False)\n",
        "df_hh['частичная занятость'] = df_hh['Занятость'].apply(lambda x: True if 'частичная занятость' in x else False)\n",
        "df_hh['проектная работа'] = df_hh['Занятость'].apply(lambda x: True if 'проектная работа' in x else False)\n",
        "df_hh['стажировка'] = df_hh['Занятость'].apply(lambda x: True if 'стажировка' in x else False)\n",
        "df_hh['волонтёрство'] = df_hh['Занятость'].apply(lambda x: True if 'волонтерство' in x else False)"
      ],
      "metadata": {
        "id": "w3o6Tz2PD2_r"
      },
      "id": "w3o6Tz2PD2_r",
      "execution_count": 78,
      "outputs": []
    },
    {
      "cell_type": "code",
      "source": [
        "df_hh['гибкий график'] = df_hh['График'].apply(lambda x: True if 'гибкий график' in x else False)\n",
        "df_hh['полный день'] = df_hh['График'].apply(lambda x: True if 'полный день' in x else False)\n",
        "df_hh['удаленная работа'] = df_hh['График'].apply(lambda x: True if 'удаленная работа' in x else False)\n",
        "df_hh['сменный график'] = df_hh['График'].apply(lambda x: True if 'сменный график' in x else False)\n",
        "df_hh['вахтовый метод'] = df_hh['График'].apply(lambda x: True if 'вахтовый метод' in x else False)"
      ],
      "metadata": {
        "id": "73bc4oMGHtW6"
      },
      "id": "73bc4oMGHtW6",
      "execution_count": 79,
      "outputs": []
    },
    {
      "cell_type": "code",
      "source": [
        "(df_hh['проектная работа']).value_counts()"
      ],
      "metadata": {
        "colab": {
          "base_uri": "https://localhost:8080/"
        },
        "id": "HpqEKV1wGb0u",
        "outputId": "8c8d4c83-7256-419c-ad0d-f12e6c3b9cba"
      },
      "id": "HpqEKV1wGb0u",
      "execution_count": 80,
      "outputs": [
        {
          "output_type": "execute_result",
          "data": {
            "text/plain": [
              "False    36676\n",
              "True      8068\n",
              "Name: проектная работа, dtype: int64"
            ]
          },
          "metadata": {},
          "execution_count": 80
        }
      ]
    },
    {
      "cell_type": "code",
      "source": [
        "(df_hh['волонтёрство']).value_counts()"
      ],
      "metadata": {
        "colab": {
          "base_uri": "https://localhost:8080/"
        },
        "id": "I0MKRpBLKHLm",
        "outputId": "0574994b-0129-4ff4-de61-fb8a05c71cb0"
      },
      "id": "I0MKRpBLKHLm",
      "execution_count": 81,
      "outputs": [
        {
          "output_type": "execute_result",
          "data": {
            "text/plain": [
              "False    44258\n",
              "True       486\n",
              "Name: волонтёрство, dtype: int64"
            ]
          },
          "metadata": {},
          "execution_count": 81
        }
      ]
    },
    {
      "cell_type": "code",
      "source": [
        "(df_hh['волонтёрство'] & df_hh['проектная работа']).value_counts()"
      ],
      "metadata": {
        "colab": {
          "base_uri": "https://localhost:8080/"
        },
        "id": "9QbatSpuKUHc",
        "outputId": "ff30cefd-f1aa-48f4-aa68-531006e9a2c2"
      },
      "id": "9QbatSpuKUHc",
      "execution_count": 82,
      "outputs": [
        {
          "output_type": "execute_result",
          "data": {
            "text/plain": [
              "False    44308\n",
              "True       436\n",
              "dtype: int64"
            ]
          },
          "metadata": {},
          "execution_count": 82
        }
      ]
    },
    {
      "cell_type": "code",
      "source": [
        "(df_hh['вахтовый метод'] & df_hh['гибкий график']).value_counts()"
      ],
      "metadata": {
        "colab": {
          "base_uri": "https://localhost:8080/"
        },
        "id": "VBVvXJoGK1hu",
        "outputId": "c9a024ca-9eb7-40e0-feb2-633e179e70a3"
      },
      "id": "VBVvXJoGK1hu",
      "execution_count": 83,
      "outputs": [
        {
          "output_type": "execute_result",
          "data": {
            "text/plain": [
              "False    42433\n",
              "True      2311\n",
              "dtype: int64"
            ]
          },
          "metadata": {},
          "execution_count": 83
        }
      ]
    },
    {
      "cell_type": "markdown",
      "id": "344f123c-b63b-43dd-a8a4-809c1f1bb443",
      "metadata": {
        "id": "344f123c-b63b-43dd-a8a4-809c1f1bb443"
      },
      "source": [
        "6. (2 балла) Наконец, мы добрались до самого главного и самого важного - признака заработной платы **\"ЗП\"**.\n",
        "В чем наша беда? В том, что помимо желаемой заработной платы соискатель указывает валюту, в которой он бы хотел ее получать, например:\n",
        "* 30000 руб.\n",
        "* 50000 грн.\n",
        "* 550 USD\n",
        "\n",
        "Нам бы хотелось видеть заработную плату в единой валюте, например, в рублях. Возникает вопрос, а где взять курс валют по отношению к рублю?\n",
        "\n",
        "На самом деле язык Python имеет в арсенале огромное количество возможностей получения данной информации, от обращения к API Центробанка, до использования специальных библиотек, например pycbrf. Однако, это не тема нашего проекта.\n",
        "\n",
        "Поэтому мы пойдем в лоб: обратимся к специальным интернет-ресурсам для получения данных о курсе в виде текстовых файлов. Например, MDF.RU, данный ресурс позволяет удобно экспортировать данные о курсах различных валют и акций за указанные периоды в виде csv файлов. Мы уже сделали выгрузку курсов валют, которые встречаются в наших данных за период с 29.12.2017 по 05.12.2019. Скачать ее вы можете **на платформе**\n",
        "\n",
        "Создайте новый DataFrame из полученного файла. В полученной таблице нас будут интересовать столбцы:\n",
        "* \"currency\" - наименование валюты в ISO кодировке,\n",
        "* \"date\" - дата,\n",
        "* \"proportion\" - пропорция,\n",
        "* \"close\" - цена закрытия (последний зафиксированный курс валюты на указанный день).\n",
        "\n",
        "\n",
        "Перед вами таблица соответствия наименований иностранных валют в наших данных и их общепринятых сокращений, которые представлены в нашем файле с курсами валют. Пропорция - это число, за сколько единиц валюты указан курс в таблице с курсами. Например, для казахстанского тенге курс на 20.08.2019 составляет 17.197 руб. за 100 тенге, тогда итоговый курс равен - 17.197 / 100 = 0.17197 руб за 1 тенге.\n",
        "Воспользуйтесь этой информацией в ваших преобразованиях.\n",
        "\n",
        "<img src=https://raw.githubusercontent.com/AndreyRysistov/DatasetsForPandas/main/table.jpg>\n",
        "\n",
        "\n",
        "Осталось только понять, откуда брать дату, по которой определяется курс? А вот же она - в признаке **\"Обновление резюме\"**, в нем содержится дата и время, когда соискатель выложил текущий вариант своего резюме. Нас интересует только дата, по ней бы и будем сопоставлять курсы валют.\n",
        "\n",
        "Теперь у нас есть вся необходимая информация для того, чтобы создать признак \"ЗП (руб)\" - заработная плата в рублях.\n",
        "\n",
        "После ответа на контрольные вопросы удалите исходный столбец заработной платы \"ЗП\" и все промежуточные столбцы, если вы их создавали."
      ]
    },
    {
      "cell_type": "markdown",
      "id": "6d794257-61f5-4124-956b-67b92b9391a7",
      "metadata": {
        "tags": [],
        "id": "6d794257-61f5-4124-956b-67b92b9391a7"
      },
      "source": [
        "Итак, давайте обсудим возможный алгоритм преобразования:\n",
        "1. Перевести признак \"Обновление резюме\" из таблицы с резюме в формат datetime и достать из него дату. В тот же формат привести признак \"date\" из таблицы с валютами.\n",
        "2. Выделить из столбца \"ЗП\" сумму желаемой заработной платы и наименование валюты, в которой она исчисляется. Наименование валюты перевести в стандарт ISO согласно с таблицей выше.\n",
        "3. Присоединить к таблице с резюме таблицу с курсами по столбцам с датой и названием валюты (подумайте, какой тип объединения надо выбрать, чтобы в таблице с резюме сохранились данные о заработной плате, изначально представленной в рублях). Значение close для рубля заполнить единицей 1 (курс рубля самого к себе)\n",
        "4. Умножить сумму желаемой заработной платы на присоединенный курс валюты (close) и разделить на пропорцию (обратите внимание на пропуски после объединения в этих столбцах), результат занести в новый столбец \"ЗП (руб)\".\n"
      ]
    },
    {
      "cell_type": "code",
      "execution_count": 84,
      "id": "e91f87ed-e25c-4f96-9f92-b642e8c0b4fa",
      "metadata": {
        "id": "e91f87ed-e25c-4f96-9f92-b642e8c0b4fa"
      },
      "outputs": [],
      "source": [
        "# загружаем датафрейм с курсами валют\n",
        "df_cur = pd.read_csv('/content/ExchangeRates.zip')"
      ]
    },
    {
      "cell_type": "code",
      "source": [
        "df_cur.head()"
      ],
      "metadata": {
        "colab": {
          "base_uri": "https://localhost:8080/",
          "height": 206
        },
        "id": "NaB0zm6IgWHl",
        "outputId": "d3d27ac1-367c-49a2-ca10-3fe9bf5d9fbb"
      },
      "id": "NaB0zm6IgWHl",
      "execution_count": 85,
      "outputs": [
        {
          "output_type": "execute_result",
          "data": {
            "text/plain": [
              "  currency per      date   time    close  vol  proportion\n",
              "0      USD   D  29/12/17  00:00  57.6291    0           1\n",
              "1      USD   D  30/12/17  00:00  57.6002    0           1\n",
              "2      USD   D  31/12/17  00:00  57.6002    0           1\n",
              "3      USD   D  01/01/18  00:00  57.6002    0           1\n",
              "4      USD   D  02/01/18  00:00  57.6002    0           1"
            ],
            "text/html": [
              "\n",
              "  <div id=\"df-a6a4c22d-b863-49ba-869a-f32de5af07c9\" class=\"colab-df-container\">\n",
              "    <div>\n",
              "<style scoped>\n",
              "    .dataframe tbody tr th:only-of-type {\n",
              "        vertical-align: middle;\n",
              "    }\n",
              "\n",
              "    .dataframe tbody tr th {\n",
              "        vertical-align: top;\n",
              "    }\n",
              "\n",
              "    .dataframe thead th {\n",
              "        text-align: right;\n",
              "    }\n",
              "</style>\n",
              "<table border=\"1\" class=\"dataframe\">\n",
              "  <thead>\n",
              "    <tr style=\"text-align: right;\">\n",
              "      <th></th>\n",
              "      <th>currency</th>\n",
              "      <th>per</th>\n",
              "      <th>date</th>\n",
              "      <th>time</th>\n",
              "      <th>close</th>\n",
              "      <th>vol</th>\n",
              "      <th>proportion</th>\n",
              "    </tr>\n",
              "  </thead>\n",
              "  <tbody>\n",
              "    <tr>\n",
              "      <th>0</th>\n",
              "      <td>USD</td>\n",
              "      <td>D</td>\n",
              "      <td>29/12/17</td>\n",
              "      <td>00:00</td>\n",
              "      <td>57.6291</td>\n",
              "      <td>0</td>\n",
              "      <td>1</td>\n",
              "    </tr>\n",
              "    <tr>\n",
              "      <th>1</th>\n",
              "      <td>USD</td>\n",
              "      <td>D</td>\n",
              "      <td>30/12/17</td>\n",
              "      <td>00:00</td>\n",
              "      <td>57.6002</td>\n",
              "      <td>0</td>\n",
              "      <td>1</td>\n",
              "    </tr>\n",
              "    <tr>\n",
              "      <th>2</th>\n",
              "      <td>USD</td>\n",
              "      <td>D</td>\n",
              "      <td>31/12/17</td>\n",
              "      <td>00:00</td>\n",
              "      <td>57.6002</td>\n",
              "      <td>0</td>\n",
              "      <td>1</td>\n",
              "    </tr>\n",
              "    <tr>\n",
              "      <th>3</th>\n",
              "      <td>USD</td>\n",
              "      <td>D</td>\n",
              "      <td>01/01/18</td>\n",
              "      <td>00:00</td>\n",
              "      <td>57.6002</td>\n",
              "      <td>0</td>\n",
              "      <td>1</td>\n",
              "    </tr>\n",
              "    <tr>\n",
              "      <th>4</th>\n",
              "      <td>USD</td>\n",
              "      <td>D</td>\n",
              "      <td>02/01/18</td>\n",
              "      <td>00:00</td>\n",
              "      <td>57.6002</td>\n",
              "      <td>0</td>\n",
              "      <td>1</td>\n",
              "    </tr>\n",
              "  </tbody>\n",
              "</table>\n",
              "</div>\n",
              "    <div class=\"colab-df-buttons\">\n",
              "\n",
              "  <div class=\"colab-df-container\">\n",
              "    <button class=\"colab-df-convert\" onclick=\"convertToInteractive('df-a6a4c22d-b863-49ba-869a-f32de5af07c9')\"\n",
              "            title=\"Convert this dataframe to an interactive table.\"\n",
              "            style=\"display:none;\">\n",
              "\n",
              "  <svg xmlns=\"http://www.w3.org/2000/svg\" height=\"24px\" viewBox=\"0 -960 960 960\">\n",
              "    <path d=\"M120-120v-720h720v720H120Zm60-500h600v-160H180v160Zm220 220h160v-160H400v160Zm0 220h160v-160H400v160ZM180-400h160v-160H180v160Zm440 0h160v-160H620v160ZM180-180h160v-160H180v160Zm440 0h160v-160H620v160Z\"/>\n",
              "  </svg>\n",
              "    </button>\n",
              "\n",
              "  <style>\n",
              "    .colab-df-container {\n",
              "      display:flex;\n",
              "      gap: 12px;\n",
              "    }\n",
              "\n",
              "    .colab-df-convert {\n",
              "      background-color: #E8F0FE;\n",
              "      border: none;\n",
              "      border-radius: 50%;\n",
              "      cursor: pointer;\n",
              "      display: none;\n",
              "      fill: #1967D2;\n",
              "      height: 32px;\n",
              "      padding: 0 0 0 0;\n",
              "      width: 32px;\n",
              "    }\n",
              "\n",
              "    .colab-df-convert:hover {\n",
              "      background-color: #E2EBFA;\n",
              "      box-shadow: 0px 1px 2px rgba(60, 64, 67, 0.3), 0px 1px 3px 1px rgba(60, 64, 67, 0.15);\n",
              "      fill: #174EA6;\n",
              "    }\n",
              "\n",
              "    .colab-df-buttons div {\n",
              "      margin-bottom: 4px;\n",
              "    }\n",
              "\n",
              "    [theme=dark] .colab-df-convert {\n",
              "      background-color: #3B4455;\n",
              "      fill: #D2E3FC;\n",
              "    }\n",
              "\n",
              "    [theme=dark] .colab-df-convert:hover {\n",
              "      background-color: #434B5C;\n",
              "      box-shadow: 0px 1px 3px 1px rgba(0, 0, 0, 0.15);\n",
              "      filter: drop-shadow(0px 1px 2px rgba(0, 0, 0, 0.3));\n",
              "      fill: #FFFFFF;\n",
              "    }\n",
              "  </style>\n",
              "\n",
              "    <script>\n",
              "      const buttonEl =\n",
              "        document.querySelector('#df-a6a4c22d-b863-49ba-869a-f32de5af07c9 button.colab-df-convert');\n",
              "      buttonEl.style.display =\n",
              "        google.colab.kernel.accessAllowed ? 'block' : 'none';\n",
              "\n",
              "      async function convertToInteractive(key) {\n",
              "        const element = document.querySelector('#df-a6a4c22d-b863-49ba-869a-f32de5af07c9');\n",
              "        const dataTable =\n",
              "          await google.colab.kernel.invokeFunction('convertToInteractive',\n",
              "                                                    [key], {});\n",
              "        if (!dataTable) return;\n",
              "\n",
              "        const docLinkHtml = 'Like what you see? Visit the ' +\n",
              "          '<a target=\"_blank\" href=https://colab.research.google.com/notebooks/data_table.ipynb>data table notebook</a>'\n",
              "          + ' to learn more about interactive tables.';\n",
              "        element.innerHTML = '';\n",
              "        dataTable['output_type'] = 'display_data';\n",
              "        await google.colab.output.renderOutput(dataTable, element);\n",
              "        const docLink = document.createElement('div');\n",
              "        docLink.innerHTML = docLinkHtml;\n",
              "        element.appendChild(docLink);\n",
              "      }\n",
              "    </script>\n",
              "  </div>\n",
              "\n",
              "\n",
              "<div id=\"df-4953c0b5-53eb-4cfa-822f-4d6d477b23d6\">\n",
              "  <button class=\"colab-df-quickchart\" onclick=\"quickchart('df-4953c0b5-53eb-4cfa-822f-4d6d477b23d6')\"\n",
              "            title=\"Suggest charts\"\n",
              "            style=\"display:none;\">\n",
              "\n",
              "<svg xmlns=\"http://www.w3.org/2000/svg\" height=\"24px\"viewBox=\"0 0 24 24\"\n",
              "     width=\"24px\">\n",
              "    <g>\n",
              "        <path d=\"M19 3H5c-1.1 0-2 .9-2 2v14c0 1.1.9 2 2 2h14c1.1 0 2-.9 2-2V5c0-1.1-.9-2-2-2zM9 17H7v-7h2v7zm4 0h-2V7h2v10zm4 0h-2v-4h2v4z\"/>\n",
              "    </g>\n",
              "</svg>\n",
              "  </button>\n",
              "\n",
              "<style>\n",
              "  .colab-df-quickchart {\n",
              "      --bg-color: #E8F0FE;\n",
              "      --fill-color: #1967D2;\n",
              "      --hover-bg-color: #E2EBFA;\n",
              "      --hover-fill-color: #174EA6;\n",
              "      --disabled-fill-color: #AAA;\n",
              "      --disabled-bg-color: #DDD;\n",
              "  }\n",
              "\n",
              "  [theme=dark] .colab-df-quickchart {\n",
              "      --bg-color: #3B4455;\n",
              "      --fill-color: #D2E3FC;\n",
              "      --hover-bg-color: #434B5C;\n",
              "      --hover-fill-color: #FFFFFF;\n",
              "      --disabled-bg-color: #3B4455;\n",
              "      --disabled-fill-color: #666;\n",
              "  }\n",
              "\n",
              "  .colab-df-quickchart {\n",
              "    background-color: var(--bg-color);\n",
              "    border: none;\n",
              "    border-radius: 50%;\n",
              "    cursor: pointer;\n",
              "    display: none;\n",
              "    fill: var(--fill-color);\n",
              "    height: 32px;\n",
              "    padding: 0;\n",
              "    width: 32px;\n",
              "  }\n",
              "\n",
              "  .colab-df-quickchart:hover {\n",
              "    background-color: var(--hover-bg-color);\n",
              "    box-shadow: 0 1px 2px rgba(60, 64, 67, 0.3), 0 1px 3px 1px rgba(60, 64, 67, 0.15);\n",
              "    fill: var(--button-hover-fill-color);\n",
              "  }\n",
              "\n",
              "  .colab-df-quickchart-complete:disabled,\n",
              "  .colab-df-quickchart-complete:disabled:hover {\n",
              "    background-color: var(--disabled-bg-color);\n",
              "    fill: var(--disabled-fill-color);\n",
              "    box-shadow: none;\n",
              "  }\n",
              "\n",
              "  .colab-df-spinner {\n",
              "    border: 2px solid var(--fill-color);\n",
              "    border-color: transparent;\n",
              "    border-bottom-color: var(--fill-color);\n",
              "    animation:\n",
              "      spin 1s steps(1) infinite;\n",
              "  }\n",
              "\n",
              "  @keyframes spin {\n",
              "    0% {\n",
              "      border-color: transparent;\n",
              "      border-bottom-color: var(--fill-color);\n",
              "      border-left-color: var(--fill-color);\n",
              "    }\n",
              "    20% {\n",
              "      border-color: transparent;\n",
              "      border-left-color: var(--fill-color);\n",
              "      border-top-color: var(--fill-color);\n",
              "    }\n",
              "    30% {\n",
              "      border-color: transparent;\n",
              "      border-left-color: var(--fill-color);\n",
              "      border-top-color: var(--fill-color);\n",
              "      border-right-color: var(--fill-color);\n",
              "    }\n",
              "    40% {\n",
              "      border-color: transparent;\n",
              "      border-right-color: var(--fill-color);\n",
              "      border-top-color: var(--fill-color);\n",
              "    }\n",
              "    60% {\n",
              "      border-color: transparent;\n",
              "      border-right-color: var(--fill-color);\n",
              "    }\n",
              "    80% {\n",
              "      border-color: transparent;\n",
              "      border-right-color: var(--fill-color);\n",
              "      border-bottom-color: var(--fill-color);\n",
              "    }\n",
              "    90% {\n",
              "      border-color: transparent;\n",
              "      border-bottom-color: var(--fill-color);\n",
              "    }\n",
              "  }\n",
              "</style>\n",
              "\n",
              "  <script>\n",
              "    async function quickchart(key) {\n",
              "      const quickchartButtonEl =\n",
              "        document.querySelector('#' + key + ' button');\n",
              "      quickchartButtonEl.disabled = true;  // To prevent multiple clicks.\n",
              "      quickchartButtonEl.classList.add('colab-df-spinner');\n",
              "      try {\n",
              "        const charts = await google.colab.kernel.invokeFunction(\n",
              "            'suggestCharts', [key], {});\n",
              "      } catch (error) {\n",
              "        console.error('Error during call to suggestCharts:', error);\n",
              "      }\n",
              "      quickchartButtonEl.classList.remove('colab-df-spinner');\n",
              "      quickchartButtonEl.classList.add('colab-df-quickchart-complete');\n",
              "    }\n",
              "    (() => {\n",
              "      let quickchartButtonEl =\n",
              "        document.querySelector('#df-4953c0b5-53eb-4cfa-822f-4d6d477b23d6 button');\n",
              "      quickchartButtonEl.style.display =\n",
              "        google.colab.kernel.accessAllowed ? 'block' : 'none';\n",
              "    })();\n",
              "  </script>\n",
              "</div>\n",
              "    </div>\n",
              "  </div>\n"
            ]
          },
          "metadata": {},
          "execution_count": 85
        }
      ]
    },
    {
      "cell_type": "code",
      "source": [
        "# преобразуем дату\n",
        "df_cur['date'] = pd.to_datetime(df_cur['date']).dt.date\n",
        "# посмотрим какие валюты есть\n",
        "df_cur['currency'].unique()"
      ],
      "metadata": {
        "id": "hsSEkJXkggra"
      },
      "id": "hsSEkJXkggra",
      "execution_count": 87,
      "outputs": []
    },
    {
      "cell_type": "code",
      "source": [
        "df_hh['reload_date'] = pd.to_datetime(df_hh['Обновление резюме']).dt.date\n",
        "df_hh['salary'] = df_hh['ЗП'].apply(lambda x: x.split()[0])\n",
        "df_hh['currency'] = df_hh['ЗП'].apply(lambda x: x.split()[-1][:3].replace(' ', ''))\n",
        "\n",
        "# посмотрим какие валюты есть в основном датафрейме\n",
        "df_hh['currency'].unique()"
      ],
      "metadata": {
        "id": "p6Q7p4QIg9rZ"
      },
      "id": "p6Q7p4QIg9rZ",
      "execution_count": 91,
      "outputs": []
    },
    {
      "cell_type": "code",
      "source": [
        "# создадим словарь для преобразование названий валют в мировой стандарт\n",
        "currency_dict = {\n",
        "                'руб': 'RUB',\n",
        "                'грн'\t: 'UAH',\n",
        "                'USD': 'USD',\n",
        "                'EUR': 'EUR',\n",
        "                'бел' : 'BYN',\n",
        "                'сум' : 'UZS',\n",
        "                'AZN': 'AZN',\n",
        "                'KZT': 'KZT',\n",
        "                'KGS': 'KGS'\n",
        "}"
      ],
      "metadata": {
        "id": "cjTmYyrbjGAN"
      },
      "id": "cjTmYyrbjGAN",
      "execution_count": 95,
      "outputs": []
    },
    {
      "cell_type": "code",
      "source": [
        "# применим наш словарь валют\n",
        "df_hh['currency'] = df_hh['currency'].map(currency_dict)\n",
        "df_hh['currency'].unique()\n",
        "\n",
        "# создадим 2 датафрейма: с ЗП в рублях и с ЗП в других валютах\n",
        "df_hh_rub = df_hh.loc[df_hh['currency'] == 'RUB']\n",
        "df_hh_not_rub = df_hh.loc[df_hh['currency'] != 'RUB']\n",
        "\n",
        "# дополним датафрейм с ЗП не в рублях курсами валют\n",
        "df_hh_not_rub_calc = df_hh_not_rub.merge(df_cur, left_on=['reload_date', 'currency'], right_on=['date','currency'])\n",
        "\n",
        "# дополним датафрейм с ЗП в рублях единицами, т.к. считаем суммарно в рублях\n",
        "df_hh_rub['close'] = 1\n",
        "df_hh_rub['proportion'] = 1\n",
        "\n",
        "# приводим датафреймы к общему шаблону\n",
        "df_hh_not_rub_calc = df_hh_not_rub_calc.drop(['per', 'time'], axis=1)\n",
        "\n",
        "# объединяем датафреймы в рублях и в других валютах\n",
        "df_calc = pd.concat([df_hh_rub, df_hh_not_rub_calc], axis =0, ignore_index=True)\n",
        "\n",
        "# смотрим что получилось\n",
        "df_calc.tail()"
      ],
      "metadata": {
        "id": "RX8Vs35ckakg"
      },
      "id": "RX8Vs35ckakg",
      "execution_count": 96,
      "outputs": []
    },
    {
      "cell_type": "code",
      "source": [
        "# проверяем размерность получившегося датафрейма\n",
        "df_calc.shape"
      ],
      "metadata": {
        "colab": {
          "base_uri": "https://localhost:8080/"
        },
        "id": "RrV9YMjQ03a_",
        "outputId": "b966fe6d-e00e-4001-d32f-535b4400c3e1"
      },
      "id": "RrV9YMjQ03a_",
      "execution_count": 108,
      "outputs": [
        {
          "output_type": "execute_result",
          "data": {
            "text/plain": [
              "(44744, 37)"
            ]
          },
          "metadata": {},
          "execution_count": 108
        }
      ]
    },
    {
      "cell_type": "code",
      "source": [
        "# считаем медианную ЗП в рублях среди всех резюме\n",
        "df_calc['ЗП (руб)'] = df_calc['salary'].astype(int) * df_calc['close'] / df_calc['proportion']\n",
        "df_calc['ЗП (руб)'].median()"
      ],
      "metadata": {
        "id": "VvEn9eyuoSyM"
      },
      "id": "VvEn9eyuoSyM",
      "execution_count": 109,
      "outputs": []
    },
    {
      "cell_type": "code",
      "source": [
        "# удаляем лишние столобцы\n",
        "df_calc = df_calc.drop(['Пол, возраст', 'ЗП', 'Занятость', 'График', 'reload_date', 'salary', 'currency', 'close', 'proportion', 'date', 'vol',\n",
        "                        'Город, переезд, командировки', 'Опыт работы', 'Готовность и к переезду, и к командировкам', 'Образование и ВУЗ'], axis=1)\n",
        "\n",
        "# проверяем\n",
        "df_calc.info()"
      ],
      "metadata": {
        "id": "YHUEeS0N9mY4",
        "colab": {
          "base_uri": "https://localhost:8080/",
          "height": 407
        },
        "outputId": "dc9b199c-b905-412d-c558-e6bb5d1ed519"
      },
      "id": "YHUEeS0N9mY4",
      "execution_count": 153,
      "outputs": [
        {
          "output_type": "error",
          "ename": "KeyError",
          "evalue": "ignored",
          "traceback": [
            "\u001b[0;31m---------------------------------------------------------------------------\u001b[0m",
            "\u001b[0;31mKeyError\u001b[0m                                  Traceback (most recent call last)",
            "\u001b[0;32m<ipython-input-153-b19101720243>\u001b[0m in \u001b[0;36m<cell line: 2>\u001b[0;34m()\u001b[0m\n\u001b[1;32m      1\u001b[0m \u001b[0;31m# удаляем лишние столобцы\u001b[0m\u001b[0;34m\u001b[0m\u001b[0;34m\u001b[0m\u001b[0m\n\u001b[0;32m----> 2\u001b[0;31m df_calc = df_calc.drop(['Пол, возраст', 'ЗП', 'Занятость', 'График', 'reload_date', 'salary', 'currency', 'close', 'proportion', 'date', 'vol',\n\u001b[0m\u001b[1;32m      3\u001b[0m                         'Город, переезд, командировки', 'Опыт работы', 'Готовность и к переезду, и к командировкам', 'Образование и ВУЗ'], axis=1)\n\u001b[1;32m      4\u001b[0m \u001b[0;34m\u001b[0m\u001b[0m\n\u001b[1;32m      5\u001b[0m \u001b[0;31m# проверяем\u001b[0m\u001b[0;34m\u001b[0m\u001b[0;34m\u001b[0m\u001b[0m\n",
            "\u001b[0;32m/usr/local/lib/python3.10/dist-packages/pandas/util/_decorators.py\u001b[0m in \u001b[0;36mwrapper\u001b[0;34m(*args, **kwargs)\u001b[0m\n\u001b[1;32m    329\u001b[0m                     \u001b[0mstacklevel\u001b[0m\u001b[0;34m=\u001b[0m\u001b[0mfind_stack_level\u001b[0m\u001b[0;34m(\u001b[0m\u001b[0;34m)\u001b[0m\u001b[0;34m,\u001b[0m\u001b[0;34m\u001b[0m\u001b[0;34m\u001b[0m\u001b[0m\n\u001b[1;32m    330\u001b[0m                 )\n\u001b[0;32m--> 331\u001b[0;31m             \u001b[0;32mreturn\u001b[0m \u001b[0mfunc\u001b[0m\u001b[0;34m(\u001b[0m\u001b[0;34m*\u001b[0m\u001b[0margs\u001b[0m\u001b[0;34m,\u001b[0m \u001b[0;34m**\u001b[0m\u001b[0mkwargs\u001b[0m\u001b[0;34m)\u001b[0m\u001b[0;34m\u001b[0m\u001b[0;34m\u001b[0m\u001b[0m\n\u001b[0m\u001b[1;32m    332\u001b[0m \u001b[0;34m\u001b[0m\u001b[0m\n\u001b[1;32m    333\u001b[0m         \u001b[0;31m# error: \"Callable[[VarArg(Any), KwArg(Any)], Any]\" has no\u001b[0m\u001b[0;34m\u001b[0m\u001b[0;34m\u001b[0m\u001b[0m\n",
            "\u001b[0;32m/usr/local/lib/python3.10/dist-packages/pandas/core/frame.py\u001b[0m in \u001b[0;36mdrop\u001b[0;34m(self, labels, axis, index, columns, level, inplace, errors)\u001b[0m\n\u001b[1;32m   5397\u001b[0m                 \u001b[0mweight\u001b[0m  \u001b[0;36m1.0\u001b[0m     \u001b[0;36m0.8\u001b[0m\u001b[0;34m\u001b[0m\u001b[0;34m\u001b[0m\u001b[0m\n\u001b[1;32m   5398\u001b[0m         \"\"\"\n\u001b[0;32m-> 5399\u001b[0;31m         return super().drop(\n\u001b[0m\u001b[1;32m   5400\u001b[0m             \u001b[0mlabels\u001b[0m\u001b[0;34m=\u001b[0m\u001b[0mlabels\u001b[0m\u001b[0;34m,\u001b[0m\u001b[0;34m\u001b[0m\u001b[0;34m\u001b[0m\u001b[0m\n\u001b[1;32m   5401\u001b[0m             \u001b[0maxis\u001b[0m\u001b[0;34m=\u001b[0m\u001b[0maxis\u001b[0m\u001b[0;34m,\u001b[0m\u001b[0;34m\u001b[0m\u001b[0;34m\u001b[0m\u001b[0m\n",
            "\u001b[0;32m/usr/local/lib/python3.10/dist-packages/pandas/util/_decorators.py\u001b[0m in \u001b[0;36mwrapper\u001b[0;34m(*args, **kwargs)\u001b[0m\n\u001b[1;32m    329\u001b[0m                     \u001b[0mstacklevel\u001b[0m\u001b[0;34m=\u001b[0m\u001b[0mfind_stack_level\u001b[0m\u001b[0;34m(\u001b[0m\u001b[0;34m)\u001b[0m\u001b[0;34m,\u001b[0m\u001b[0;34m\u001b[0m\u001b[0;34m\u001b[0m\u001b[0m\n\u001b[1;32m    330\u001b[0m                 )\n\u001b[0;32m--> 331\u001b[0;31m             \u001b[0;32mreturn\u001b[0m \u001b[0mfunc\u001b[0m\u001b[0;34m(\u001b[0m\u001b[0;34m*\u001b[0m\u001b[0margs\u001b[0m\u001b[0;34m,\u001b[0m \u001b[0;34m**\u001b[0m\u001b[0mkwargs\u001b[0m\u001b[0;34m)\u001b[0m\u001b[0;34m\u001b[0m\u001b[0;34m\u001b[0m\u001b[0m\n\u001b[0m\u001b[1;32m    332\u001b[0m \u001b[0;34m\u001b[0m\u001b[0m\n\u001b[1;32m    333\u001b[0m         \u001b[0;31m# error: \"Callable[[VarArg(Any), KwArg(Any)], Any]\" has no\u001b[0m\u001b[0;34m\u001b[0m\u001b[0;34m\u001b[0m\u001b[0m\n",
            "\u001b[0;32m/usr/local/lib/python3.10/dist-packages/pandas/core/generic.py\u001b[0m in \u001b[0;36mdrop\u001b[0;34m(self, labels, axis, index, columns, level, inplace, errors)\u001b[0m\n\u001b[1;32m   4503\u001b[0m         \u001b[0;32mfor\u001b[0m \u001b[0maxis\u001b[0m\u001b[0;34m,\u001b[0m \u001b[0mlabels\u001b[0m \u001b[0;32min\u001b[0m \u001b[0maxes\u001b[0m\u001b[0;34m.\u001b[0m\u001b[0mitems\u001b[0m\u001b[0;34m(\u001b[0m\u001b[0;34m)\u001b[0m\u001b[0;34m:\u001b[0m\u001b[0;34m\u001b[0m\u001b[0;34m\u001b[0m\u001b[0m\n\u001b[1;32m   4504\u001b[0m             \u001b[0;32mif\u001b[0m \u001b[0mlabels\u001b[0m \u001b[0;32mis\u001b[0m \u001b[0;32mnot\u001b[0m \u001b[0;32mNone\u001b[0m\u001b[0;34m:\u001b[0m\u001b[0;34m\u001b[0m\u001b[0;34m\u001b[0m\u001b[0m\n\u001b[0;32m-> 4505\u001b[0;31m                 \u001b[0mobj\u001b[0m \u001b[0;34m=\u001b[0m \u001b[0mobj\u001b[0m\u001b[0;34m.\u001b[0m\u001b[0m_drop_axis\u001b[0m\u001b[0;34m(\u001b[0m\u001b[0mlabels\u001b[0m\u001b[0;34m,\u001b[0m \u001b[0maxis\u001b[0m\u001b[0;34m,\u001b[0m \u001b[0mlevel\u001b[0m\u001b[0;34m=\u001b[0m\u001b[0mlevel\u001b[0m\u001b[0;34m,\u001b[0m \u001b[0merrors\u001b[0m\u001b[0;34m=\u001b[0m\u001b[0merrors\u001b[0m\u001b[0;34m)\u001b[0m\u001b[0;34m\u001b[0m\u001b[0;34m\u001b[0m\u001b[0m\n\u001b[0m\u001b[1;32m   4506\u001b[0m \u001b[0;34m\u001b[0m\u001b[0m\n\u001b[1;32m   4507\u001b[0m         \u001b[0;32mif\u001b[0m \u001b[0minplace\u001b[0m\u001b[0;34m:\u001b[0m\u001b[0;34m\u001b[0m\u001b[0;34m\u001b[0m\u001b[0m\n",
            "\u001b[0;32m/usr/local/lib/python3.10/dist-packages/pandas/core/generic.py\u001b[0m in \u001b[0;36m_drop_axis\u001b[0;34m(self, labels, axis, level, errors, only_slice)\u001b[0m\n\u001b[1;32m   4544\u001b[0m                 \u001b[0mnew_axis\u001b[0m \u001b[0;34m=\u001b[0m \u001b[0maxis\u001b[0m\u001b[0;34m.\u001b[0m\u001b[0mdrop\u001b[0m\u001b[0;34m(\u001b[0m\u001b[0mlabels\u001b[0m\u001b[0;34m,\u001b[0m \u001b[0mlevel\u001b[0m\u001b[0;34m=\u001b[0m\u001b[0mlevel\u001b[0m\u001b[0;34m,\u001b[0m \u001b[0merrors\u001b[0m\u001b[0;34m=\u001b[0m\u001b[0merrors\u001b[0m\u001b[0;34m)\u001b[0m\u001b[0;34m\u001b[0m\u001b[0;34m\u001b[0m\u001b[0m\n\u001b[1;32m   4545\u001b[0m             \u001b[0;32melse\u001b[0m\u001b[0;34m:\u001b[0m\u001b[0;34m\u001b[0m\u001b[0;34m\u001b[0m\u001b[0m\n\u001b[0;32m-> 4546\u001b[0;31m                 \u001b[0mnew_axis\u001b[0m \u001b[0;34m=\u001b[0m \u001b[0maxis\u001b[0m\u001b[0;34m.\u001b[0m\u001b[0mdrop\u001b[0m\u001b[0;34m(\u001b[0m\u001b[0mlabels\u001b[0m\u001b[0;34m,\u001b[0m \u001b[0merrors\u001b[0m\u001b[0;34m=\u001b[0m\u001b[0merrors\u001b[0m\u001b[0;34m)\u001b[0m\u001b[0;34m\u001b[0m\u001b[0;34m\u001b[0m\u001b[0m\n\u001b[0m\u001b[1;32m   4547\u001b[0m             \u001b[0mindexer\u001b[0m \u001b[0;34m=\u001b[0m \u001b[0maxis\u001b[0m\u001b[0;34m.\u001b[0m\u001b[0mget_indexer\u001b[0m\u001b[0;34m(\u001b[0m\u001b[0mnew_axis\u001b[0m\u001b[0;34m)\u001b[0m\u001b[0;34m\u001b[0m\u001b[0;34m\u001b[0m\u001b[0m\n\u001b[1;32m   4548\u001b[0m \u001b[0;34m\u001b[0m\u001b[0m\n",
            "\u001b[0;32m/usr/local/lib/python3.10/dist-packages/pandas/core/indexes/base.py\u001b[0m in \u001b[0;36mdrop\u001b[0;34m(self, labels, errors)\u001b[0m\n\u001b[1;32m   6932\u001b[0m         \u001b[0;32mif\u001b[0m \u001b[0mmask\u001b[0m\u001b[0;34m.\u001b[0m\u001b[0many\u001b[0m\u001b[0;34m(\u001b[0m\u001b[0;34m)\u001b[0m\u001b[0;34m:\u001b[0m\u001b[0;34m\u001b[0m\u001b[0;34m\u001b[0m\u001b[0m\n\u001b[1;32m   6933\u001b[0m             \u001b[0;32mif\u001b[0m \u001b[0merrors\u001b[0m \u001b[0;34m!=\u001b[0m \u001b[0;34m\"ignore\"\u001b[0m\u001b[0;34m:\u001b[0m\u001b[0;34m\u001b[0m\u001b[0;34m\u001b[0m\u001b[0m\n\u001b[0;32m-> 6934\u001b[0;31m                 \u001b[0;32mraise\u001b[0m \u001b[0mKeyError\u001b[0m\u001b[0;34m(\u001b[0m\u001b[0;34mf\"{list(labels[mask])} not found in axis\"\u001b[0m\u001b[0;34m)\u001b[0m\u001b[0;34m\u001b[0m\u001b[0;34m\u001b[0m\u001b[0m\n\u001b[0m\u001b[1;32m   6935\u001b[0m             \u001b[0mindexer\u001b[0m \u001b[0;34m=\u001b[0m \u001b[0mindexer\u001b[0m\u001b[0;34m[\u001b[0m\u001b[0;34m~\u001b[0m\u001b[0mmask\u001b[0m\u001b[0;34m]\u001b[0m\u001b[0;34m\u001b[0m\u001b[0;34m\u001b[0m\u001b[0m\n\u001b[1;32m   6936\u001b[0m         \u001b[0;32mreturn\u001b[0m \u001b[0mself\u001b[0m\u001b[0;34m.\u001b[0m\u001b[0mdelete\u001b[0m\u001b[0;34m(\u001b[0m\u001b[0mindexer\u001b[0m\u001b[0;34m)\u001b[0m\u001b[0;34m\u001b[0m\u001b[0;34m\u001b[0m\u001b[0m\n",
            "\u001b[0;31mKeyError\u001b[0m: \"['Пол, возраст', 'ЗП', 'Занятость', 'График', 'reload_date', 'salary', 'currency', 'close', 'proportion', 'date', 'vol', 'Город, переезд, командировки', 'Опыт работы', 'Готовность и к переезду, и к командировкам', 'Образование и ВУЗ'] not found in axis\""
          ]
        }
      ]
    },
    {
      "cell_type": "markdown",
      "id": "7ea20ab6-04a7-40a0-adec-443a0e5a42c3",
      "metadata": {
        "id": "7ea20ab6-04a7-40a0-adec-443a0e5a42c3"
      },
      "source": [
        "# Исследование зависимостей в данных"
      ]
    },
    {
      "cell_type": "markdown",
      "id": "968aed80-74ef-4ffb-b5bf-c65b84e9caea",
      "metadata": {
        "id": "968aed80-74ef-4ffb-b5bf-c65b84e9caea"
      },
      "source": [
        "1. Постройте распределение признака **\"Возраст\"**. Опишите распределение, отвечая на следующие вопросы: чему равна мода распределения, каковы предельные значения признака, в каком примерном интервале находится возраст большинства соискателей? Есть ли аномалии для признака возраста, какие значения вы бы причислили к их числу?\n",
        "*Совет: постройте гистограмму и коробчатую диаграмму рядом.*"
      ]
    },
    {
      "cell_type": "code",
      "execution_count": 325,
      "id": "f2d62796-d400-4ec1-a675-88112739a50e",
      "metadata": {
        "id": "f2d62796-d400-4ec1-a675-88112739a50e",
        "colab": {
          "base_uri": "https://localhost:8080/",
          "height": 477
        },
        "outputId": "145df7ed-b0ad-4e4f-de79-fe82ef9f0fe9"
      },
      "outputs": [
        {
          "output_type": "display_data",
          "data": {
            "text/plain": [
              "<Figure size 640x480 with 1 Axes>"
            ],
            "image/png": "[encoded data removed]"
          },
          "metadata": {}
        }
      ],
      "source": [
        "df_calc['Возраст'].hist(bins=40)\n",
        "\n",
        "plt.title('Распределение признака \"Возраст\"')\n",
        "plt.xlabel('Возраст')\n",
        "plt.ylabel('Число соискателей')\n",
        "\n",
        "style.use('ggplot')\n",
        "plt.show()"
      ]
    },
    {
      "cell_type": "code",
      "source": [
        "df_calc['Возраст'].mode()"
      ],
      "metadata": {
        "colab": {
          "base_uri": "https://localhost:8080/"
        },
        "id": "Bq2AtRi_EfhX",
        "outputId": "2bbdb19c-1823-4db7-ae19-42cfe3b95ecb"
      },
      "id": "Bq2AtRi_EfhX",
      "execution_count": 149,
      "outputs": [
        {
          "output_type": "execute_result",
          "data": {
            "text/plain": [
              "0    30\n",
              "Name: Возраст, dtype: int64"
            ]
          },
          "metadata": {},
          "execution_count": 149
        }
      ]
    },
    {
      "cell_type": "markdown",
      "id": "88967466-5070-4bea-9e71-b3efefdc6e4a",
      "metadata": {
        "id": "88967466-5070-4bea-9e71-b3efefdc6e4a"
      },
      "source": [
        "### На гистограмме видно, что больше всего соикателей от 21 до 40 лет, мода 30 лет, минимальный возраст 17 лет, максимальный около 60 лет. Есть аномалии, что работу ищут несовершеннолетние и пожилые 70+.\n",
        "\n"
      ]
    },
    {
      "cell_type": "markdown",
      "id": "68377cfc-b378-43dc-ab7d-1195abf2c515",
      "metadata": {
        "id": "68377cfc-b378-43dc-ab7d-1195abf2c515"
      },
      "source": [
        "2. Постройте распределение признака **\"Опыт работы (месяц)\"**. Опишите данное распределение, отвечая на следующие вопросы: чему равна мода распределения, каковы предельные значения признака, в каком примерном интервале находится опыт работы большинства соискателей? Есть ли аномалии для признака опыта работы, какие значения вы бы причислили к их числу?\n",
        "*Совет: постройте гистограмму и коробчатую диаграмму рядом.*"
      ]
    },
    {
      "cell_type": "code",
      "execution_count": 319,
      "id": "dd7df27a-e3e8-412e-a21a-5d389b71e891",
      "metadata": {
        "id": "dd7df27a-e3e8-412e-a21a-5d389b71e891",
        "colab": {
          "base_uri": "https://localhost:8080/",
          "height": 493
        },
        "outputId": "fa337fbf-37c2-4db5-df6f-efffadf67d71"
      },
      "outputs": [
        {
          "output_type": "display_data",
          "data": {
            "text/plain": [
              "<Figure size 1500x500 with 2 Axes>"
            ],
            "image/png": "[encoded data removed]"
          },
          "metadata": {}
        }
      ],
      "source": [
        "plt.figure(figsize=(15,5))\n",
        "\n",
        "plt.subplot(1,2,1)\n",
        "df_calc['Опыт работы в мес.'].hist(bins=50)\n",
        "\n",
        "plt.title('Распределение признака \"Опыт работы в мес.\"')\n",
        "plt.xlabel('Опыт работы в мес.')\n",
        "plt.ylabel('Число соискателей')\n",
        "\n",
        "plt.subplot(1,2,2)\n",
        "df_calc.boxplot(column=['Опыт работы в мес.'], by=None)\n",
        "plt.title('Boxplot признака \"Опыт работы в мес.\"')\n",
        "plt.xlabel('')\n",
        "plt.ylabel('Опыт работы в мес.')\n",
        "\n",
        "style.use('ggplot')\n",
        "plt.show()"
      ]
    },
    {
      "cell_type": "code",
      "source": [
        "df_calc['Опыт работы в мес.'].mode()"
      ],
      "metadata": {
        "colab": {
          "base_uri": "https://localhost:8080/"
        },
        "id": "mhuHYXO-HDcy",
        "outputId": "e47807dd-86f1-4cc6-c1c7-5490d30f3338"
      },
      "id": "mhuHYXO-HDcy",
      "execution_count": 160,
      "outputs": [
        {
          "output_type": "execute_result",
          "data": {
            "text/plain": [
              "0    81.0\n",
              "Name: Опыт работы в мес., dtype: float64"
            ]
          },
          "metadata": {},
          "execution_count": 160
        }
      ]
    },
    {
      "cell_type": "code",
      "source": [
        "df_calc['Опыт работы в мес.'].median()"
      ],
      "metadata": {
        "colab": {
          "base_uri": "https://localhost:8080/"
        },
        "id": "OLMCtxmgyRUU",
        "outputId": "8c24de74-c1de-4d3a-f6c6-8466758a9e16"
      },
      "id": "OLMCtxmgyRUU",
      "execution_count": 320,
      "outputs": [
        {
          "output_type": "execute_result",
          "data": {
            "text/plain": [
              "100.0"
            ]
          },
          "metadata": {},
          "execution_count": 320
        }
      ]
    },
    {
      "cell_type": "code",
      "source": [
        "df_calc['Опыт работы в мес.'].mean().round()"
      ],
      "metadata": {
        "colab": {
          "base_uri": "https://localhost:8080/"
        },
        "id": "Bgg7sbaDyYqB",
        "outputId": "cf5ed84f-0f77-41b3-c645-50d6f1bbec9e"
      },
      "id": "Bgg7sbaDyYqB",
      "execution_count": 322,
      "outputs": [
        {
          "output_type": "execute_result",
          "data": {
            "text/plain": [
              "114.0"
            ]
          },
          "metadata": {},
          "execution_count": 322
        }
      ]
    },
    {
      "cell_type": "markdown",
      "id": "7305c34b-089d-4986-be9f-5fa1c0ee281c",
      "metadata": {
        "id": "7305c34b-089d-4986-be9f-5fa1c0ee281c"
      },
      "source": [
        "### На гистограмме видно, что больше всего соикателей c с опытом около 100 меc. мода 81 мес., есть выбросы с аномально большим опытом работы. Много соискателей без опыта."
      ]
    },
    {
      "cell_type": "markdown",
      "id": "f2fe0acb-ab1a-4e15-9326-2560e22d73c1",
      "metadata": {
        "id": "f2fe0acb-ab1a-4e15-9326-2560e22d73c1"
      },
      "source": [
        "3. Постройте распределение признака **\"ЗП (руб)\"**. Опишите данное распределение, отвечая на следующие вопросы: каковы предельные значения признака, в каком примерном интервале находится заработная плата большинства соискателей? Есть ли аномалии для признака возраста? Обратите внимание на гигантские размеры желаемой заработной платы.\n",
        "*Совет: постройте гистограмму и коробчатую диаграмму рядом.*\n"
      ]
    },
    {
      "cell_type": "code",
      "execution_count": 332,
      "id": "6271f8ad-bd2e-4196-ae4a-5b39c4c1010e",
      "metadata": {
        "id": "6271f8ad-bd2e-4196-ae4a-5b39c4c1010e",
        "colab": {
          "base_uri": "https://localhost:8080/",
          "height": 493
        },
        "outputId": "00c9fea0-b7e5-4b63-9c93-1cbf414be21b"
      },
      "outputs": [
        {
          "output_type": "display_data",
          "data": {
            "text/plain": [
              "<Figure size 1500x500 with 2 Axes>"
            ],
            "image/png": "[encoded data removed]"
          },
          "metadata": {}
        }
      ],
      "source": [
        "plt.figure(figsize=(15,5))\n",
        "\n",
        "plt.subplot(1,2,1)\n",
        "df_calc['ЗП (руб)'].hist(bins=60)\n",
        "\n",
        "plt.semilogy()\n",
        "plt.title('Распределение \"ЗП (руб)\"')\n",
        "plt.xlabel('Число соискателей')\n",
        "plt.ylabel('ЗП (руб)')\n",
        "\n",
        "plt.subplot(1,2,2)\n",
        "df_calc.boxplot(column=['ЗП (руб)'], by=None)\n",
        "plt.semilogy()\n",
        "plt.title('Boxplot ЗП (руб) ')\n",
        "plt.xlabel('')\n",
        "plt.ylabel('ЗП (руб)')\n",
        "\n",
        "style.use('ggplot')\n",
        "plt.show()"
      ]
    },
    {
      "cell_type": "markdown",
      "id": "6c39ca13-225e-48f7-a85c-ab07a6cc852a",
      "metadata": {
        "id": "6c39ca13-225e-48f7-a85c-ab07a6cc852a"
      },
      "source": [
        "### Большинство кандидатов ищет ЗП до 100 тыс. рублей, скорее всего это кандидаты с небольшим опытом, которых большинство. Кандидаты с большим опытом, ищут ЗП от 100тыс. до 1 млн, присутствуют условные выбросы с ожиданием ЗП свыше 1 млн. Много соискателей не указывает желаемую ЗП, из-за этого гистограмма получилась не  информативная."
      ]
    },
    {
      "cell_type": "markdown",
      "id": "eab2206d-d95b-468b-8e5f-34381abf0ce7",
      "metadata": {
        "id": "eab2206d-d95b-468b-8e5f-34381abf0ce7"
      },
      "source": [
        "4. Постройте диаграмму, которая показывает зависимость **медианной** желаемой заработной платы (**\"ЗП (руб)\"**) от уровня образования (**\"Образование\"**). Используйте для диаграммы данные о резюме, где желаемая заработная плата меньше 1 млн рублей.\n",
        "*Сделайте выводы по представленной диаграмме: для каких уровней образования наблюдаются наибольшие и наименьшие уровни желаемой заработной платы? Как вы считаете, важен ли признак уровня образования при прогнозировании заработной платы?*"
      ]
    },
    {
      "cell_type": "code",
      "execution_count": 201,
      "id": "80defb23-bfb1-4a18-8be6-bf36aa7165d5",
      "metadata": {
        "id": "80defb23-bfb1-4a18-8be6-bf36aa7165d5"
      },
      "outputs": [],
      "source": [
        "# удаляем выбросы\n",
        "df_clear = df_calc.loc[df_calc['ЗП (руб)'] < 1e6].copy()"
      ]
    },
    {
      "cell_type": "code",
      "source": [
        "# считаем медианы\n",
        "median_salary = np.array([df_clear['ЗП (руб)'].loc[df_clear['Образование'] == 'Высшее образование'].median(),\n",
        "                         df_clear['ЗП (руб)'].loc[df_clear['Образование'] == 'Неоконченное высшее'].median(),\n",
        "                         df_clear['ЗП (руб)'].loc[df_clear['Образование'] == 'Среднее специальное'].median(),\n",
        "                          df_clear['ЗП (руб)'].loc[df_clear['Образование'] == 'Среднее образование'].median()])\n",
        "education = ['Высшее образование', 'Неоконченное высшее', 'Среднее специальное', 'Среднее образование']"
      ],
      "metadata": {
        "id": "1nHVyB1TRoh-"
      },
      "id": "1nHVyB1TRoh-",
      "execution_count": 239,
      "outputs": []
    },
    {
      "cell_type": "code",
      "source": [
        "plt.figure(figsize=(10,3))\n",
        "style.use('ggplot')\n",
        "plt.title('Зависимость ЗП (руб) от уровня образования')\n",
        "plt.xlabel('')\n",
        "plt.ylabel('ЗП (руб)')\n",
        "\n",
        "plt.bar(education, median_salary, width=0.3, color='blue')\n",
        "plt.show()"
      ],
      "metadata": {
        "colab": {
          "base_uri": "https://localhost:8080/",
          "height": 315
        },
        "id": "pWLt8nOoUJLu",
        "outputId": "7a06670c-a688-4d88-b29a-af23baf3ba7d"
      },
      "id": "pWLt8nOoUJLu",
      "execution_count": 240,
      "outputs": [
        {
          "output_type": "display_data",
          "data": {
            "text/plain": [
              "<Figure size 1000x300 with 1 Axes>"
            ],
            "image/png": "[encoded data removed]"
          },
          "metadata": {}
        }
      ]
    },
    {
      "cell_type": "markdown",
      "id": "dc463319-3f85-47dd-b66e-aecb0be0c76f",
      "metadata": {
        "id": "dc463319-3f85-47dd-b66e-aecb0be0c76f"
      },
      "source": [
        "### Видно, что чем выше образование, тем выше ожидаемая ЗП."
      ]
    },
    {
      "cell_type": "markdown",
      "id": "0112af31-f6b0-4e3b-82ab-71296e752e5e",
      "metadata": {
        "id": "0112af31-f6b0-4e3b-82ab-71296e752e5e"
      },
      "source": [
        "5. Постройте диаграмму, которая показывает распределение желаемой заработной платы (**\"ЗП (руб)\"**) в зависимости от города (**\"Город\"**). Используйте для диаграммы данные о резюме, где желая заработная плата меньше 1 млн рублей.\n",
        "*Сделайте выводы по полученной диаграмме: как соотносятся медианные уровни желаемой заработной платы и их размах в городах? Как вы считаете, важен ли признак города при прогнозировании заработной платы?*"
      ]
    },
    {
      "cell_type": "code",
      "execution_count": 311,
      "id": "973b0cfc-a972-470a-8b4a-68744ef220c4",
      "metadata": {
        "id": "973b0cfc-a972-470a-8b4a-68744ef220c4",
        "colab": {
          "base_uri": "https://localhost:8080/",
          "height": 392
        },
        "outputId": "10206164-9aaf-4493-fc63-e7e526efeead"
      },
      "outputs": [
        {
          "output_type": "display_data",
          "data": {
            "text/plain": [
              "<Figure size 800x400 with 1 Axes>"
            ],
            "image/png": "[encoded data removed]"
          },
          "metadata": {}
        }
      ],
      "source": [
        "plt.figure(figsize=(8, 4))\n",
        "style.use('ggplot')\n",
        "color = ['red', 'blue', 'purple', 'yellow']\n",
        "plt.bar(df_clear['Город'], df_clear['ЗП (руб)'], width=0.3, color='blue')\n",
        "\n",
        "plt.title('Зависимость ЗП (руб) от города')\n",
        "plt.xlabel('')\n",
        "plt.ylabel('ЗП (руб)')\n",
        "plt.show()"
      ]
    },
    {
      "cell_type": "markdown",
      "id": "2710ce73-2e81-4e38-b52f-833cd14ba47a",
      "metadata": {
        "tags": [],
        "id": "2710ce73-2e81-4e38-b52f-833cd14ba47a"
      },
      "source": [
        "### В лидерах по ожидаемой ЗП \"другие\" города и Москва. Скорее всего в категории \"другие\" много специалистов высокого уровня, которые живут либо на курортах, либо за границей."
      ]
    },
    {
      "cell_type": "markdown",
      "id": "3bfcfdaf-755d-4d2b-8ed8-326201dc07ab",
      "metadata": {
        "id": "3bfcfdaf-755d-4d2b-8ed8-326201dc07ab"
      },
      "source": [
        "6. Постройте **многоуровневую столбчатую диаграмму**, которая показывает зависимость медианной заработной платы (**\"ЗП (руб)\"**) от признаков **\"Готовность к переезду\"** и **\"Готовность к командировкам\"**. Проанализируйте график, сравнив уровень заработной платы в категориях."
      ]
    },
    {
      "cell_type": "code",
      "execution_count": 254,
      "id": "ad3f270f-2991-47eb-929b-e8f88a55b0d1",
      "metadata": {
        "id": "ad3f270f-2991-47eb-929b-e8f88a55b0d1"
      },
      "outputs": [],
      "source": [
        "# считаем медианы\n",
        "move_salary = np.array([df_clear['ЗП (руб)'].loc[df_clear['Готовность к переезду'] == True].median(),\n",
        "                         df_clear['ЗП (руб)'].loc[df_clear['Готовность к переезду'] == False].median()])\n",
        "\n",
        "trip_salary = np.array([df_clear['ЗП (руб)'].loc[df_clear['Готовность к командировкам'] == True].median(),\n",
        "                          df_clear['ЗП (руб)'].loc[df_clear['Готовность к командировкам'] == False].median()])\n",
        "cat = ['готовы', 'не готовы']"
      ]
    },
    {
      "cell_type": "code",
      "execution_count": 261,
      "id": "efcf512a-4918-4c3f-9357-b3035f9e5f5f",
      "metadata": {
        "id": "efcf512a-4918-4c3f-9357-b3035f9e5f5f",
        "colab": {
          "base_uri": "https://localhost:8080/",
          "height": 315
        },
        "outputId": "f7dc2186-3665-4d0b-e9cc-cb2bddc986fc"
      },
      "outputs": [
        {
          "output_type": "display_data",
          "data": {
            "text/plain": [
              "<Figure size 600x300 with 1 Axes>"
            ],
            "image/png": "[encoded data removed]"
          },
          "metadata": {}
        }
      ],
      "source": [
        "plt.figure(figsize=(6,3))\n",
        "style.use('ggplot')\n",
        "plt.title('Зависимость ЗП (руб) от уровня образования')\n",
        "plt.xlabel('')\n",
        "plt.ylabel('ЗП (руб)')\n",
        "\n",
        "plt.bar(cat, move_salary, width=0.3, color='blue', label='переезд')\n",
        "plt.bar(cat, trip_salary , width=0.3, color='red', bottom=move_salary, label='командировка')\n",
        "plt.legend()\n",
        "plt.show()"
      ]
    },
    {
      "cell_type": "markdown",
      "id": "7b02bb86-0546-40fb-94a4-242f050a5c57",
      "metadata": {
        "id": "7b02bb86-0546-40fb-94a4-242f050a5c57"
      },
      "source": [
        "7. Постройте сводную таблицу, иллюстрирующую зависимость **медианной** желаемой заработной платы от возраста (**\"Возраст\"**) и образования (**\"Образование\"**). На полученной сводной таблице постройте **тепловую карту**. Проанализируйте тепловую карту, сравнив показатели внутри групп."
      ]
    },
    {
      "cell_type": "code",
      "execution_count": 313,
      "id": "5a0e32a4-e68a-4365-8a39-2fe24c542c36",
      "metadata": {
        "id": "5a0e32a4-e68a-4365-8a39-2fe24c542c36"
      },
      "outputs": [],
      "source": [
        "hm = pd.pivot_table(df_clear, values=['ЗП (руб)'], index=['Образование'], columns=['Возраст'], aggfunc='median')"
      ]
    },
    {
      "cell_type": "code",
      "source": [
        "fig, ax = plt.subplots(figsize=(20,5))\n",
        "style.use('ggplot')\n",
        "im = ax.imshow(hm, cmap=\"YlGn\")\n",
        "\n",
        "cbar = ax.figure.colorbar(im,\n",
        "                          ax = ax,\n",
        "                          shrink=0.5 )\n",
        "\n",
        "ax.set_title(\"Зависимость ЗП от возраста и образования\", size=14)\n",
        "\n",
        "fig.tight_layout()\n",
        "\n",
        "educations = hm.index.values\n",
        "ages = hm.columns.values\n",
        "\n",
        "# Add axis tick labels\n",
        "ax.set_xticks(np.arange(len(ages)),\n",
        "              labels=ages)\n",
        "ax.set_yticks(np.arange(len(educations)),\n",
        "              labels=educations)\n",
        "\n",
        "# Rotate the tick labels to be more legible\n",
        "plt.setp(ax.get_xticklabels(),\n",
        "         rotation = 45,\n",
        "         ha = \"right\",\n",
        "         rotation_mode = \"anchor\")\n",
        "plt.show()"
      ],
      "metadata": {
        "colab": {
          "base_uri": "https://localhost:8080/",
          "height": 303
        },
        "id": "nyhT8F0Djn7Z",
        "outputId": "f59e565b-0d67-4c5d-8b64-f864d0a45c80"
      },
      "id": "nyhT8F0Djn7Z",
      "execution_count": 266,
      "outputs": [
        {
          "output_type": "display_data",
          "data": {
            "text/plain": [
              "<Figure size 2000x500 with 2 Axes>"
            ],
            "image/png": "[encoded data removed]"
          },
          "metadata": {}
        }
      ]
    },
    {
      "cell_type": "markdown",
      "id": "7aade1c2-16a0-418c-8427-ad93927c7705",
      "metadata": {
        "id": "7aade1c2-16a0-418c-8427-ad93927c7705"
      },
      "source": [
        "### Самые высокие ЗП просят специалисты с Высшим образованием, наблюдается рост ЗП в данной категории от 20 к 40 годам, потом идет небольшой спад с возрастом. Наблюдаем выбросы возрасте 14-17 лет, скорее всего это некорректные данные."
      ]
    },
    {
      "cell_type": "markdown",
      "id": "d0247088-9003-455b-a591-a44650f487c3",
      "metadata": {
        "id": "d0247088-9003-455b-a591-a44650f487c3"
      },
      "source": [
        "8. Постройте **диаграмму рассеяния**, показывающую зависимость опыта работы (**\"Опыт работы (месяц)\"**) от возраста (**\"Возраст\"**). Опыт работы переведите из месяцев в года, чтобы признаки были в едином масштабе. Постройте на графике дополнительно прямую, проходящую через точки (0, 0) и (100, 100). Данная прямая соответствует значениям, когда опыт работы равен возрасту человека. Точки, лежащие на этой прямой и выше нее - аномалии в наших данных (опыт работы больше либо равен возрасту соискателя)"
      ]
    },
    {
      "cell_type": "code",
      "execution_count": 270,
      "id": "a4143e50-b900-4ec8-9ae9-fc3ec3347287",
      "metadata": {
        "id": "a4143e50-b900-4ec8-9ae9-fc3ec3347287",
        "colab": {
          "base_uri": "https://localhost:8080/",
          "height": 478
        },
        "outputId": "943cee45-2484-4192-e561-e4cbb75eba60"
      },
      "outputs": [
        {
          "output_type": "display_data",
          "data": {
            "text/plain": [
              "<Figure size 640x480 with 1 Axes>"
            ],
            "image/png": "[encoded data removed]"
          },
          "metadata": {}
        }
      ],
      "source": [
        "df_clear['опыт работы в годах'] = (df_clear['Опыт работы в мес.']/12).round()\n",
        "\n",
        "plt.scatter(df_clear['опыт работы в годах'], df_clear['Возраст'])\n",
        "style.use('ggplot')\n",
        "plt.xlabel(\"опыт работы в годах\")\n",
        "plt.ylabel(\"Возраст\")\n",
        "plt.title(\"Зависимость опыта работы от возраста\")\n",
        "\n",
        "x = [0, 100]\n",
        "y = [0, 100]\n",
        "plt.plot(x, y, linestyle = 'dotted')\n",
        "\n",
        "plt.show()"
      ]
    },
    {
      "cell_type": "markdown",
      "id": "6f9218ff-52c7-4742-b328-4db5d4da7262",
      "metadata": {
        "id": "6f9218ff-52c7-4742-b328-4db5d4da7262"
      },
      "source": [
        "\n",
        "\n",
        "### Видим 9 точек явных выбросов, но в целом опыт работы достаточно сильно зависит от возраста. Центр распределения - кандидаты около 40 лет с опытом 15 лет. Без опыта присутсвуют кандидаты всех возрастов."
      ]
    },
    {
      "cell_type": "markdown",
      "id": "0cc3b0d5-b551-424d-9956-8da18fce17a1",
      "metadata": {
        "id": "0cc3b0d5-b551-424d-9956-8da18fce17a1"
      },
      "source": [
        "**Дополнительные баллы**\n",
        "\n",
        "Для получения 2 дополнительных баллов по разведывательному анализу постройте еще два любых содержательных графика или диаграммы, которые помогут проиллюстрировать влияние признаков/взаимосвязь между признаками/распределения признаков. Приведите выводы по ним. Желательно, чтобы в анализе участвовали признаки, которые мы создавали ранее в разделе \"Преобразование данных\".\n"
      ]
    },
    {
      "cell_type": "code",
      "execution_count": 333,
      "id": "e273ec66-b8df-41e5-9b99-bdab93dddd85",
      "metadata": {
        "id": "e273ec66-b8df-41e5-9b99-bdab93dddd85",
        "colab": {
          "base_uri": "https://localhost:8080/",
          "height": 492
        },
        "outputId": "0a53466f-14e0-4912-db29-ed124249524c"
      },
      "outputs": [
        {
          "output_type": "display_data",
          "data": {
            "text/plain": [
              "<Figure size 500x500 with 1 Axes>"
            ],
            "image/png": "[encoded data removed]"
          },
          "metadata": {}
        }
      ],
      "source": [
        "color = ['red', 'blue']\n",
        "plt.figure(figsize=(5, 5))\n",
        "plt.bar(df_clear['Пол'], df_clear['ЗП (руб)'], width=0.3, color='blue')\n",
        "\n",
        "style.use('ggplot')\n",
        "plt.xlabel(\"Пол\")\n",
        "plt.ylabel(\"ЗП (руб)\")\n",
        "plt.title(\"Зависимость ЗП от пола соискателей\")\n",
        "\n",
        "plt.show()"
      ]
    },
    {
      "cell_type": "markdown",
      "id": "04966e40-3bc3-4dc8-9ba2-e80580ce3abc",
      "metadata": {
        "id": "04966e40-3bc3-4dc8-9ba2-e80580ce3abc"
      },
      "source": [
        "###От пола соискатель не зависят ожидания ЗП соискателя."
      ]
    },
    {
      "cell_type": "code",
      "source": [
        "df_office = df_clear.loc[df_clear['удаленная работа'] == False].copy()\n",
        "df_home_work = df_clear.loc[df_clear['удаленная работа'] == True].copy()\n",
        "\n",
        "fig, axs = plt.subplots()\n",
        "fig.suptitle('Зарплатные ожидания: Удаленная работа и офис')\n",
        "style.use('ggplot')\n",
        "\n",
        "plt.hist(df_office['ЗП (руб)'])\n",
        "plt.hist(df_home_work['ЗП (руб)'])\n",
        "\n",
        "# Function add a legend\n",
        "plt.legend([\"Офис\", \"удаленка\"], loc =\"lower right\")\n",
        "\n",
        "plt.ylabel(\"ЗП (руб)'\")\n",
        "plt.xlabel(\"Число соискателей\")\n",
        "\n",
        "plt.show()"
      ],
      "metadata": {
        "colab": {
          "base_uri": "https://localhost:8080/",
          "height": 501
        },
        "id": "iHM3kaqOpKgr",
        "outputId": "976980ef-1da3-4bfd-bd12-9b8fc4836317"
      },
      "id": "iHM3kaqOpKgr",
      "execution_count": 281,
      "outputs": [
        {
          "output_type": "display_data",
          "data": {
            "text/plain": [
              "<Figure size 640x480 with 1 Axes>"
            ],
            "image/png": "[encoded data removed]"
          },
          "metadata": {}
        }
      ]
    },
    {
      "cell_type": "markdown",
      "source": [
        "###Можно сделать вывод, что при работе только в офисе кандидаты требуют большую ЗП."
      ],
      "metadata": {
        "id": "61COkXa1p8r1"
      },
      "id": "61COkXa1p8r1"
    },
    {
      "cell_type": "markdown",
      "id": "b1ef156a-efcb-49ce-bb23-90763e7f35b2",
      "metadata": {
        "tags": [],
        "id": "b1ef156a-efcb-49ce-bb23-90763e7f35b2"
      },
      "source": [
        "# Очистка данных"
      ]
    },
    {
      "cell_type": "markdown",
      "id": "b9cd50a0-992d-4988-8463-2b2b1c4629b4",
      "metadata": {
        "id": "b9cd50a0-992d-4988-8463-2b2b1c4629b4"
      },
      "source": [
        "1. Начнем с дубликатов в наших данных. Найдите **полные дубликаты** в таблице с резюме и удалите их."
      ]
    },
    {
      "cell_type": "code",
      "execution_count": 285,
      "id": "54ab0e50-c0f1-47cc-a54b-bc5c8bc363f9",
      "metadata": {
        "id": "54ab0e50-c0f1-47cc-a54b-bc5c8bc363f9"
      },
      "outputs": [],
      "source": [
        "df_clear['Обновление резюме'] = pd.to_datetime(df_clear['Обновление резюме']).dt.date\n",
        "df_clear.duplicated(keep='last').sum()\n",
        "df_clear = df_clear.drop_duplicates(keep=False)"
      ]
    },
    {
      "cell_type": "markdown",
      "id": "4dea20cb-a36b-474a-a0b9-e08e8e3857a5",
      "metadata": {
        "id": "4dea20cb-a36b-474a-a0b9-e08e8e3857a5"
      },
      "source": [
        "2. Займемся пропусками. Выведите информацию **о числе пропусков** в столбцах."
      ]
    },
    {
      "cell_type": "code",
      "execution_count": 286,
      "id": "9c61b3c0-bb66-46c9-ae1e-81d3f5752b4a",
      "metadata": {
        "id": "9c61b3c0-bb66-46c9-ae1e-81d3f5752b4a",
        "colab": {
          "base_uri": "https://localhost:8080/"
        },
        "outputId": "5ee1b519-9d93-4275-a928-af9c35827a3c"
      },
      "outputs": [
        {
          "output_type": "execute_result",
          "data": {
            "text/plain": [
              "Ищет работу на должность:            0\n",
              "Последнее/нынешнее место работы      1\n",
              "Последняя/нынешняя должность         2\n",
              "Обновление резюме                    0\n",
              "Авто                                 0\n",
              "Образование                          0\n",
              "Пол                                  0\n",
              "Возраст                              0\n",
              "Опыт работы в мес.                 166\n",
              "Город                                0\n",
              "Готовность к переезду                0\n",
              "Готовность к командировкам           0\n",
              "полная занятость                     0\n",
              "частичная занятость                  0\n",
              "проектная работа                     0\n",
              "стажировка                           0\n",
              "волонтёрство                         0\n",
              "гибкий график                        0\n",
              "полный день                          0\n",
              "удаленная работа                     0\n",
              "сменный график                       0\n",
              "вахтовый метод                       0\n",
              "ЗП (руб)                             0\n",
              "опыт работы в годах                166\n",
              "dtype: int64"
            ]
          },
          "metadata": {},
          "execution_count": 286
        }
      ],
      "source": [
        "df_clear.isna().sum()"
      ]
    },
    {
      "cell_type": "markdown",
      "id": "eedceb80-c5ca-480e-b27a-278dfb8b4438",
      "metadata": {
        "id": "eedceb80-c5ca-480e-b27a-278dfb8b4438"
      },
      "source": [
        "3. Итак, у нас есть пропуски в 3ех столбцах: **\"Опыт работы (месяц)\"**, **\"Последнее/нынешнее место работы\"**, **\"Последняя/нынешняя должность\"**. Поступим следующим образом: удалите строки, где есть пропуск в столбцах с местом работы и должностью. Пропуски в столбце с опытом работы заполните **медианным** значением."
      ]
    },
    {
      "cell_type": "code",
      "execution_count": 287,
      "id": "69621713-0cc5-4f1b-a1d7-bb144fa6148c",
      "metadata": {
        "id": "69621713-0cc5-4f1b-a1d7-bb144fa6148c"
      },
      "outputs": [],
      "source": [
        "df_clear = df_clear.dropna(subset=['Последнее/нынешнее место работы', 'Последняя/нынешняя должность'])"
      ]
    },
    {
      "cell_type": "markdown",
      "id": "1be1e9c6-37cf-4a5f-bfeb-04cab799dc80",
      "metadata": {
        "id": "1be1e9c6-37cf-4a5f-bfeb-04cab799dc80"
      },
      "source": [
        "4. Мы добрались до ликвидации выбросов. Сначала очистим данные вручную. Удалите резюме, в которых указана заработная плата либо выше 1 млн. рублей, либо ниже 1 тыс. рублей."
      ]
    },
    {
      "cell_type": "code",
      "execution_count": 290,
      "id": "0036a355-9ccf-4564-8b01-73d8194297e7",
      "metadata": {
        "id": "0036a355-9ccf-4564-8b01-73d8194297e7"
      },
      "outputs": [],
      "source": [
        "df_clear = df_clear.drop(df_clear.loc[(df_clear['ЗП (руб)'] > 1e6) | (df_clear['ЗП (руб)'] < 1e3)].index)"
      ]
    },
    {
      "cell_type": "markdown",
      "id": "ec3c8db7-fa21-4a41-a994-1af63742a642",
      "metadata": {
        "id": "ec3c8db7-fa21-4a41-a994-1af63742a642"
      },
      "source": [
        "5. В процессе разведывательного анализа мы обнаружили резюме, в которых **опыт работы в годах превышал возраст соискателя**. Найдите такие резюме и удалите их из данных\n"
      ]
    },
    {
      "cell_type": "code",
      "execution_count": 292,
      "id": "949132bc-d5b6-4611-8218-0b9a504d74f4",
      "metadata": {
        "id": "949132bc-d5b6-4611-8218-0b9a504d74f4"
      },
      "outputs": [],
      "source": [
        "df_clear = df_clear.drop(df_clear.loc[df_clear['Опыт работы в мес.']/12 > df_clear['Возраст']].index)"
      ]
    },
    {
      "cell_type": "markdown",
      "id": "1041c17a-ca8f-4543-a0ca-32778914fb00",
      "metadata": {
        "id": "1041c17a-ca8f-4543-a0ca-32778914fb00"
      },
      "source": [
        "6. В результате анализа мы обнаружили потенциальные выбросы в признаке **\"Возраст\"**. Это оказались резюме людей чересчур преклонного возраста для поиска работы. Попробуйте построить распределение признака в **логарифмическом масштабе**. Добавьте к графику линии, отображающие **среднее и границы интервала метода трех сигм**. Напомним, сделать это можно с помощью метода axvline. Например, для построение линии среднего будет иметь вид:\n",
        "\n",
        "`histplot.axvline(log_age.mean(), color='k', lw=2)`\n",
        "\n",
        "В какую сторону асимметрично логарифмическое распределение? Напишите об этом в комментарии к графику.\n",
        "Найдите выбросы с помощью метода z-отклонения и удалите их из данных, используйте логарифмический масштаб. Давайте сделаем послабление на **1 сигму** (возьмите 4 сигмы) в **правую сторону**.\n",
        "\n",
        "Выведите таблицу с полученными выбросами и оцените, с каким возрастом соискатели попадают под категорию выбросов?"
      ]
    },
    {
      "cell_type": "code",
      "execution_count": 295,
      "id": "6a743d39-5204-48d3-8271-b9f88e68d40e",
      "metadata": {
        "id": "6a743d39-5204-48d3-8271-b9f88e68d40e",
        "colab": {
          "base_uri": "https://localhost:8080/"
        },
        "outputId": "e97b9835-03d5-4c17-c473-2f5fbf95b3ce"
      },
      "outputs": [
        {
          "output_type": "execute_result",
          "data": {
            "text/plain": [
              "3"
            ]
          },
          "metadata": {},
          "execution_count": 295
        }
      ],
      "source": [
        "df_clear['stats_ages'] = stats.zscore(np.log(df_clear['Возраст']))\n",
        "df_clear.loc[(df_clear['stats_ages'] > 4) | (df_clear['stats_ages'] < -3) ].value_counts().sum()"
      ]
    },
    {
      "cell_type": "code",
      "source": [
        "ages = df_clear['Возраст']\n",
        "\n",
        "plt.axvline(np.log(ages).mean(), color='k', lw=2)\n",
        "plt.axvline(np.log(ages).mean() + np.log(ages).std()*4, color='g', lw=2)\n",
        "plt.axvline(np.log(ages).mean() - np.log(ages).std()*3, color='g', lw=2)\n",
        "style.use('ggplot')\n",
        "np.log(ages).hist()\n",
        "\n",
        "plt.show()\n"
      ],
      "metadata": {
        "colab": {
          "base_uri": "https://localhost:8080/",
          "height": 430
        },
        "id": "BvLdprTiscrb",
        "outputId": "e9323225-70f9-4f71-da0d-abbfc5e027a5"
      },
      "id": "BvLdprTiscrb",
      "execution_count": 303,
      "outputs": [
        {
          "output_type": "display_data",
          "data": {
            "text/plain": [
              "<Figure size 640x480 with 1 Axes>"
            ],
            "image/png": "[encoded data removed]"
          },
          "metadata": {}
        }
      ]
    },
    {
      "cell_type": "code",
      "source": [
        "min_age = np.exp(2.75)\n",
        "max_age = np.exp(4.375)\n",
        "min_age.round(), max_age.round()"
      ],
      "metadata": {
        "colab": {
          "base_uri": "https://localhost:8080/"
        },
        "id": "s6CfcbxPs1hJ",
        "outputId": "6c4a6100-b4e4-48cd-8d3c-a3204b95516a"
      },
      "id": "s6CfcbxPs1hJ",
      "execution_count": 302,
      "outputs": [
        {
          "output_type": "execute_result",
          "data": {
            "text/plain": [
              "(16.0, 79.0)"
            ]
          },
          "metadata": {},
          "execution_count": 302
        }
      ]
    },
    {
      "cell_type": "markdown",
      "id": "6a7892b4-4113-4746-adce-18aa2844f18e",
      "metadata": {
        "id": "6a7892b4-4113-4746-adce-18aa2844f18e"
      },
      "source": [
        "### По методу 4 сигм вправо и 3 сигм влево выбросами считаем возраста: меньше 16 лет и больше 79 лет."
      ]
    }
  ],
  "metadata": {
    "kernelspec": {
      "display_name": "Python 3 (ipykernel)",
      "language": "python",
      "name": "python3"
    },
    "language_info": {
      "codemirror_mode": {
        "name": "ipython",
        "version": 3
      },
      "file_extension": ".py",
      "mimetype": "text/x-python",
      "name": "python",
      "nbconvert_exporter": "python",
      "pygments_lexer": "ipython3",
      "version": "3.9.7"
    },
    "colab": {
      "provenance": []
    }
  },
  "nbformat": 4,
  "nbformat_minor": 5
}